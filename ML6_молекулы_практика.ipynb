{
 "cells": [
  {
   "cell_type": "code",
   "execution_count": 72,
   "metadata": {},
   "outputs": [
    {
     "name": "stdout",
     "output_type": "stream",
     "text": [
      "Версия Hyperopt : 0.2.7\n"
     ]
    },
    {
     "name": "stderr",
     "output_type": "stream",
     "text": [
      "C:\\Users\\Acer\\AppData\\Local\\Temp\\ipykernel_7260\\2441569993.py:24: MatplotlibDeprecationWarning: The seaborn styles shipped by Matplotlib are deprecated since 3.6, as they no longer correspond to the styles shipped by seaborn. However, they will remain available as 'seaborn-v0_8-<style>'. Alternatively, directly use the seaborn API instead.\n",
      "  plt.style.use('seaborn')\n"
     ]
    }
   ],
   "source": [
    "#импорт библиотек\n",
    "import numpy as np #для матричных вычислений\n",
    "import pandas as pd #для анализа и предобработки данных\n",
    "import matplotlib.pyplot as plt #для визуализации\n",
    "import seaborn as sns #для визуализации\n",
    "from functools import partial\n",
    "\n",
    "from sklearn import linear_model #линейные моделиё\n",
    "from sklearn import tree #деревья решений\n",
    "from sklearn import ensemble #ансамбли\n",
    "from sklearn import metrics #метрики\n",
    "from sklearn import preprocessing #предобработка\n",
    "from sklearn.model_selection import train_test_split #сплитование выборки\n",
    "from sklearn.model_selection import cross_val_score\n",
    "from sklearn.model_selection import GridSearchCV\n",
    "from sklearn.model_selection import RandomizedSearchCV\n",
    "import hyperopt\n",
    "from hyperopt import hp, fmin, tpe, Trials\n",
    "print(\"Версия Hyperopt : {}\".format(hyperopt.__version__))\n",
    "import optuna\n",
    "from sklearn.model_selection import StratifiedKFold\n",
    "\n",
    "%matplotlib inline\n",
    "plt.style.use('seaborn')\n",
    "from sklearn.linear_model import Ridge"
   ]
  },
  {
   "cell_type": "code",
   "execution_count": 73,
   "metadata": {},
   "outputs": [
    {
     "data": {
      "text/html": [
       "<div>\n",
       "<style scoped>\n",
       "    .dataframe tbody tr th:only-of-type {\n",
       "        vertical-align: middle;\n",
       "    }\n",
       "\n",
       "    .dataframe tbody tr th {\n",
       "        vertical-align: top;\n",
       "    }\n",
       "\n",
       "    .dataframe thead th {\n",
       "        text-align: right;\n",
       "    }\n",
       "</style>\n",
       "<table border=\"1\" class=\"dataframe\">\n",
       "  <thead>\n",
       "    <tr style=\"text-align: right;\">\n",
       "      <th></th>\n",
       "      <th>Activity</th>\n",
       "      <th>D1</th>\n",
       "      <th>D2</th>\n",
       "      <th>D3</th>\n",
       "      <th>D4</th>\n",
       "      <th>D5</th>\n",
       "      <th>D6</th>\n",
       "      <th>D7</th>\n",
       "      <th>D8</th>\n",
       "      <th>D9</th>\n",
       "      <th>...</th>\n",
       "      <th>D1767</th>\n",
       "      <th>D1768</th>\n",
       "      <th>D1769</th>\n",
       "      <th>D1770</th>\n",
       "      <th>D1771</th>\n",
       "      <th>D1772</th>\n",
       "      <th>D1773</th>\n",
       "      <th>D1774</th>\n",
       "      <th>D1775</th>\n",
       "      <th>D1776</th>\n",
       "    </tr>\n",
       "  </thead>\n",
       "  <tbody>\n",
       "    <tr>\n",
       "      <th>0</th>\n",
       "      <td>1</td>\n",
       "      <td>0.000000</td>\n",
       "      <td>0.497009</td>\n",
       "      <td>0.10</td>\n",
       "      <td>0.0</td>\n",
       "      <td>0.132956</td>\n",
       "      <td>0.678031</td>\n",
       "      <td>0.273166</td>\n",
       "      <td>0.585445</td>\n",
       "      <td>0.743663</td>\n",
       "      <td>...</td>\n",
       "      <td>0</td>\n",
       "      <td>0</td>\n",
       "      <td>0</td>\n",
       "      <td>0</td>\n",
       "      <td>0</td>\n",
       "      <td>0</td>\n",
       "      <td>0</td>\n",
       "      <td>0</td>\n",
       "      <td>0</td>\n",
       "      <td>0</td>\n",
       "    </tr>\n",
       "    <tr>\n",
       "      <th>1</th>\n",
       "      <td>1</td>\n",
       "      <td>0.366667</td>\n",
       "      <td>0.606291</td>\n",
       "      <td>0.05</td>\n",
       "      <td>0.0</td>\n",
       "      <td>0.111209</td>\n",
       "      <td>0.803455</td>\n",
       "      <td>0.106105</td>\n",
       "      <td>0.411754</td>\n",
       "      <td>0.836582</td>\n",
       "      <td>...</td>\n",
       "      <td>1</td>\n",
       "      <td>1</td>\n",
       "      <td>1</td>\n",
       "      <td>1</td>\n",
       "      <td>0</td>\n",
       "      <td>1</td>\n",
       "      <td>0</td>\n",
       "      <td>0</td>\n",
       "      <td>1</td>\n",
       "      <td>0</td>\n",
       "    </tr>\n",
       "    <tr>\n",
       "      <th>2</th>\n",
       "      <td>1</td>\n",
       "      <td>0.033300</td>\n",
       "      <td>0.480124</td>\n",
       "      <td>0.00</td>\n",
       "      <td>0.0</td>\n",
       "      <td>0.209791</td>\n",
       "      <td>0.610350</td>\n",
       "      <td>0.356453</td>\n",
       "      <td>0.517720</td>\n",
       "      <td>0.679051</td>\n",
       "      <td>...</td>\n",
       "      <td>0</td>\n",
       "      <td>0</td>\n",
       "      <td>0</td>\n",
       "      <td>0</td>\n",
       "      <td>0</td>\n",
       "      <td>0</td>\n",
       "      <td>0</td>\n",
       "      <td>0</td>\n",
       "      <td>0</td>\n",
       "      <td>0</td>\n",
       "    </tr>\n",
       "    <tr>\n",
       "      <th>3</th>\n",
       "      <td>1</td>\n",
       "      <td>0.000000</td>\n",
       "      <td>0.538825</td>\n",
       "      <td>0.00</td>\n",
       "      <td>0.5</td>\n",
       "      <td>0.196344</td>\n",
       "      <td>0.724230</td>\n",
       "      <td>0.235606</td>\n",
       "      <td>0.288764</td>\n",
       "      <td>0.805110</td>\n",
       "      <td>...</td>\n",
       "      <td>0</td>\n",
       "      <td>0</td>\n",
       "      <td>0</td>\n",
       "      <td>0</td>\n",
       "      <td>0</td>\n",
       "      <td>0</td>\n",
       "      <td>0</td>\n",
       "      <td>0</td>\n",
       "      <td>0</td>\n",
       "      <td>0</td>\n",
       "    </tr>\n",
       "    <tr>\n",
       "      <th>4</th>\n",
       "      <td>0</td>\n",
       "      <td>0.100000</td>\n",
       "      <td>0.517794</td>\n",
       "      <td>0.00</td>\n",
       "      <td>0.0</td>\n",
       "      <td>0.494734</td>\n",
       "      <td>0.781422</td>\n",
       "      <td>0.154361</td>\n",
       "      <td>0.303809</td>\n",
       "      <td>0.812646</td>\n",
       "      <td>...</td>\n",
       "      <td>0</td>\n",
       "      <td>0</td>\n",
       "      <td>0</td>\n",
       "      <td>0</td>\n",
       "      <td>0</td>\n",
       "      <td>0</td>\n",
       "      <td>0</td>\n",
       "      <td>0</td>\n",
       "      <td>0</td>\n",
       "      <td>0</td>\n",
       "    </tr>\n",
       "  </tbody>\n",
       "</table>\n",
       "<p>5 rows × 1777 columns</p>\n",
       "</div>"
      ],
      "text/plain": [
       "   Activity        D1        D2    D3   D4        D5        D6        D7   \n",
       "0         1  0.000000  0.497009  0.10  0.0  0.132956  0.678031  0.273166  \\\n",
       "1         1  0.366667  0.606291  0.05  0.0  0.111209  0.803455  0.106105   \n",
       "2         1  0.033300  0.480124  0.00  0.0  0.209791  0.610350  0.356453   \n",
       "3         1  0.000000  0.538825  0.00  0.5  0.196344  0.724230  0.235606   \n",
       "4         0  0.100000  0.517794  0.00  0.0  0.494734  0.781422  0.154361   \n",
       "\n",
       "         D8        D9  ...  D1767  D1768  D1769  D1770  D1771  D1772  D1773   \n",
       "0  0.585445  0.743663  ...      0      0      0      0      0      0      0  \\\n",
       "1  0.411754  0.836582  ...      1      1      1      1      0      1      0   \n",
       "2  0.517720  0.679051  ...      0      0      0      0      0      0      0   \n",
       "3  0.288764  0.805110  ...      0      0      0      0      0      0      0   \n",
       "4  0.303809  0.812646  ...      0      0      0      0      0      0      0   \n",
       "\n",
       "   D1774  D1775  D1776  \n",
       "0      0      0      0  \n",
       "1      0      1      0  \n",
       "2      0      0      0  \n",
       "3      0      0      0  \n",
       "4      0      0      0  \n",
       "\n",
       "[5 rows x 1777 columns]"
      ]
     },
     "execution_count": 73,
     "metadata": {},
     "output_type": "execute_result"
    }
   ],
   "source": [
    "data = pd.read_csv('data/_train_sem09.csv')\n",
    "data.head()"
   ]
  },
  {
   "cell_type": "code",
   "execution_count": 74,
   "metadata": {},
   "outputs": [],
   "source": [
    "X = data.drop(['Activity'], axis=1)\n",
    "y = data['Activity']"
   ]
  },
  {
   "cell_type": "code",
   "execution_count": 75,
   "metadata": {},
   "outputs": [],
   "source": [
    "X_train, X_test, y_train, y_test = train_test_split(X, y, stratify=y, random_state = 1, test_size = 0.2)"
   ]
  },
  {
   "cell_type": "code",
   "execution_count": 76,
   "metadata": {},
   "outputs": [
    {
     "name": "stdout",
     "output_type": "stream",
     "text": [
      "accuracy на тестовом наборе: 0.76\n",
      "f1_score на тестовом наборе: 0.79\n"
     ]
    },
    {
     "name": "stderr",
     "output_type": "stream",
     "text": [
      "c:\\Users\\Acer\\AppData\\Local\\Programs\\Python\\Python311\\Lib\\site-packages\\sklearn\\linear_model\\_logistic.py:458: ConvergenceWarning: lbfgs failed to converge (status=1):\n",
      "STOP: TOTAL NO. of ITERATIONS REACHED LIMIT.\n",
      "\n",
      "Increase the number of iterations (max_iter) or scale the data as shown in:\n",
      "    https://scikit-learn.org/stable/modules/preprocessing.html\n",
      "Please also refer to the documentation for alternative solver options:\n",
      "    https://scikit-learn.org/stable/modules/linear_model.html#logistic-regression\n",
      "  n_iter_i = _check_optimize_result(\n"
     ]
    }
   ],
   "source": [
    "#Создаем объект класса логистическая регрессия\n",
    "log_reg_easy = linear_model.LogisticRegression(max_iter = 50)\n",
    "#Обучаем модель, минимизируя logloss\n",
    "log_reg_easy.fit(X_train, y_train)\n",
    "print(\"accuracy на тестовом наборе: {:.2f}\".format(log_reg_easy.score(X_test, y_test)))\n",
    "y_test_pred = log_reg_easy.predict(X_test)\n",
    "print('f1_score на тестовом наборе: {:.2f}'.format(metrics.f1_score(y_test, y_test_pred)))"
   ]
  },
  {
   "cell_type": "code",
   "execution_count": 77,
   "metadata": {},
   "outputs": [
    {
     "name": "stdout",
     "output_type": "stream",
     "text": [
      "Train: 1.00\n",
      "Test: 0.81\n"
     ]
    }
   ],
   "source": [
    "#Создаем объект класса случайный лес\n",
    "RandomForest_easy = ensemble.RandomForestClassifier(random_state=42)\n",
    "\n",
    "#Обучаем модель\n",
    "RandomForest_easy.fit(X_train, y_train)\n",
    "#Выводим значения метрики \n",
    "y_train_pred = RandomForest_easy.predict(X_train)\n",
    "print('Train: {:.2f}'.format(metrics.f1_score(y_train, y_train_pred)))\n",
    "y_test_pred = RandomForest_easy.predict(X_test)\n",
    "print('Test: {:.2f}'.format(metrics.f1_score(y_test, y_test_pred)))"
   ]
  },
  {
   "attachments": {},
   "cell_type": "markdown",
   "metadata": {},
   "source": [
    "### <center> **GridSearchCV**"
   ]
  },
  {
   "cell_type": "code",
   "execution_count": 79,
   "metadata": {},
   "outputs": [
    {
     "name": "stderr",
     "output_type": "stream",
     "text": [
      "c:\\Users\\Acer\\AppData\\Local\\Programs\\Python\\Python311\\Lib\\site-packages\\sklearn\\linear_model\\_logistic.py:1173: FutureWarning: `penalty='none'`has been deprecated in 1.2 and will be removed in 1.4. To keep the past behaviour, set `penalty=None`.\n",
      "  warnings.warn(\n"
     ]
    },
    {
     "name": "stdout",
     "output_type": "stream",
     "text": [
      "CPU times: total: 2.42 s\n",
      "Wall time: 56.2 s\n",
      "accuracy на тестовом наборе: 0.76\n",
      "f1_score на тестовом наборе: 0.78\n",
      "Наилучшие значения гиперпараметров: {'penalty': 'none', 'solver': 'saga'}\n"
     ]
    },
    {
     "name": "stderr",
     "output_type": "stream",
     "text": [
      "c:\\Users\\Acer\\AppData\\Local\\Programs\\Python\\Python311\\Lib\\site-packages\\sklearn\\linear_model\\_sag.py:350: ConvergenceWarning: The max_iter was reached which means the coef_ did not converge\n",
      "  warnings.warn(\n"
     ]
    }
   ],
   "source": [
    "param_grid = {'penalty': ['l2', 'none'] ,#тип регурялизации\n",
    "              'solver': ['lbfgs', 'saga'], #алгоритм оптимизации\n",
    "              }\n",
    "grid_search = GridSearchCV(\n",
    "    estimator=linear_model.LogisticRegression(\n",
    "        random_state=42, #генератор случайных чисел\n",
    "        max_iter=20 #количество итераций на сходимость\n",
    "    ), \n",
    "    param_grid=param_grid, \n",
    "    cv=5, \n",
    "    n_jobs = -1\n",
    ")  \n",
    "%time grid_search.fit(X_train, y_train) \n",
    "print(\"accuracy на тестовом наборе: {:.2f}\".format(grid_search.score(X_test, y_test)))\n",
    "y_test_pred = grid_search.predict(X_test)\n",
    "print('f1_score на тестовом наборе: {:.2f}'.format(metrics.f1_score(y_test, y_test_pred)))\n",
    "print(\"Наилучшие значения гиперпараметров: {}\".format(grid_search.best_params_))"
   ]
  },
  {
   "attachments": {},
   "cell_type": "markdown",
   "metadata": {},
   "source": [
    "**Попробуем расширить сетку гиперпараметров.**"
   ]
  },
  {
   "cell_type": "code",
   "execution_count": 80,
   "metadata": {},
   "outputs": [
    {
     "name": "stdout",
     "output_type": "stream",
     "text": [
      "CPU times: total: 6.02 s\n",
      "Wall time: 7min 1s\n",
      "accuracy на тестовом наборе: 0.77\n",
      "f1_score на тестовом наборе: 0.79\n",
      "Наилучшие значения гиперпараметров: {'C': 0.3, 'penalty': 'l1', 'solver': 'saga'}\n"
     ]
    },
    {
     "name": "stderr",
     "output_type": "stream",
     "text": [
      "c:\\Users\\Acer\\AppData\\Local\\Programs\\Python\\Python311\\Lib\\site-packages\\sklearn\\linear_model\\_sag.py:350: ConvergenceWarning: The max_iter was reached which means the coef_ did not converge\n",
      "  warnings.warn(\n"
     ]
    }
   ],
   "source": [
    "param_grid = [\n",
    "              {'penalty': ['l2', 'none'] , # тип регуляризации\n",
    "              'solver': ['lbfgs', 'sag'], # алгоритм оптимизации\n",
    "               'C': [0.01, 0.1, 0.3, 0.5, 0.7, 0.9, 1]}, # уровень силы регурялизации\n",
    "              \n",
    "              {'penalty': ['l1', 'l2'] ,\n",
    "              'solver': ['liblinear', 'saga'],\n",
    "               'C': [0.01, 0.1, 0.3, 0.5, 0.7, 0.9, 1]}\n",
    "]\n",
    "grid_search_1 = GridSearchCV(\n",
    "    estimator=linear_model.LogisticRegression(random_state=1, max_iter=20), \n",
    "    param_grid=param_grid, \n",
    "    cv=5, \n",
    "    n_jobs = -1\n",
    ")  \n",
    "%time grid_search_1.fit(X_train, y_train) \n",
    "print(\"accuracy на тестовом наборе: {:.2f}\".format(grid_search_1.score(X_test, y_test)))\n",
    "y_test_pred = grid_search_1.predict(X_test)\n",
    "print('f1_score на тестовом наборе: {:.2f}'.format(metrics.f1_score(y_test, y_test_pred)))\n",
    "print(\"Наилучшие значения гиперпараметров: {}\".format(grid_search_1.best_params_))"
   ]
  },
  {
   "attachments": {},
   "cell_type": "markdown",
   "metadata": {},
   "source": [
    "**Метрику удалось улучшить, а время потратили много, в 7 раз больше!**"
   ]
  },
  {
   "cell_type": "code",
   "execution_count": 81,
   "metadata": {},
   "outputs": [
    {
     "name": "stdout",
     "output_type": "stream",
     "text": [
      "CPU times: total: 5.92 s\n",
      "Wall time: 6min 39s\n",
      "f1_score на обучающем наборе: 0.94\n",
      "accuracy на тестовом наборе: 0.80\n",
      "f1_score на тестовом наборе: 0.82\n",
      "Наилучшие значения гиперпараметров: {'max_depth': 20, 'min_samples_leaf': 5, 'n_estimators': 140}\n"
     ]
    }
   ],
   "source": [
    "param_grid = {'n_estimators': list(range(80, 200, 30)),\n",
    "              'min_samples_leaf': [5],\n",
    "              'max_depth': list(np.linspace(20, 40, 5, dtype=int))\n",
    "              }\n",
    "            \n",
    "grid_search_forest = GridSearchCV(\n",
    "    estimator=ensemble.RandomForestClassifier(random_state=42), \n",
    "    param_grid=param_grid, \n",
    "    cv=5, \n",
    "    n_jobs = -1\n",
    ")  \n",
    "%time grid_search_forest.fit(X_train, y_train)\n",
    "y_train_pred = grid_search_forest.predict(X_train)\n",
    "print('f1_score на обучающем наборе: {:.2f}'.format(metrics.f1_score(y_train, y_train_pred)))\n",
    "print(\"accuracy на тестовом наборе: {:.2f}\".format(grid_search_forest.score(X_test, y_test)))\n",
    "y_test_pred = grid_search_forest.predict(X_test)\n",
    "print('f1_score на тестовом наборе: {:.2f}'.format(metrics.f1_score(y_test, y_test_pred)))\n",
    "print(\"Наилучшие значения гиперпараметров: {}\".format(grid_search_forest.best_params_))"
   ]
  },
  {
   "attachments": {},
   "cell_type": "markdown",
   "metadata": {},
   "source": [
    "### <center> **RandomizedSearchCV**"
   ]
  },
  {
   "cell_type": "code",
   "execution_count": 82,
   "metadata": {},
   "outputs": [
    {
     "name": "stdout",
     "output_type": "stream",
     "text": [
      "CPU times: total: 4.81 s\n",
      "Wall time: 1min 32s\n",
      "accuracy на тестовом наборе: 0.76\n",
      "f1_score на тестовом наборе: 0.78\n",
      "Наилучшие значения гиперпараметров: {'solver': 'sag', 'penalty': 'l2', 'C': 0.34}\n"
     ]
    },
    {
     "name": "stderr",
     "output_type": "stream",
     "text": [
      "c:\\Users\\Acer\\AppData\\Local\\Programs\\Python\\Python311\\Lib\\site-packages\\sklearn\\linear_model\\_sag.py:350: ConvergenceWarning: The max_iter was reached which means the coef_ did not converge\n",
      "  warnings.warn(\n"
     ]
    }
   ],
   "source": [
    "param_distributions = {'penalty': ['l2', 'none'] ,\n",
    "              'solver': ['lbfgs', 'sag'],\n",
    "               'C': list(np.linspace(0.01, 1, 10, dtype=float))},\n",
    "            \n",
    "random_search = RandomizedSearchCV(\n",
    "    estimator=linear_model.LogisticRegression(random_state=42, max_iter=50), \n",
    "    param_distributions=param_distributions, \n",
    "    cv=5, \n",
    "    n_iter = 10, \n",
    "    n_jobs = -1\n",
    ")  \n",
    "%time random_search.fit(X_train, y_train) \n",
    "print(\"accuracy на тестовом наборе: {:.2f}\".format(random_search.score(X_test, y_test)))\n",
    "y_test_pred = random_search.predict(X_test)\n",
    "print('f1_score на тестовом наборе: {:.2f}'.format(metrics.f1_score(y_test, y_test_pred)))\n",
    "print(\"Наилучшие значения гиперпараметров: {}\".format(random_search.best_params_))"
   ]
  },
  {
   "cell_type": "code",
   "execution_count": 83,
   "metadata": {},
   "outputs": [
    {
     "name": "stdout",
     "output_type": "stream",
     "text": [
      "CPU times: total: 3min 12s\n",
      "Wall time: 3min 51s\n",
      "f1_score на обучающем наборе: 0.94\n",
      "accuracy на тестовом наборе: 0.80\n",
      "f1_score на тестовом наборе: 0.82\n",
      "Наилучшие значения гиперпараметров: {'n_estimators': 100, 'min_samples_leaf': 5, 'max_depth': 15}\n"
     ]
    }
   ],
   "source": [
    "param_distributions = {'n_estimators': list(range(100, 200, 30)),\n",
    "              'min_samples_leaf': [5, 7],\n",
    "              'max_depth': [10, 15, 20, 25]\n",
    "              }\n",
    "            \n",
    "random_search_forest = RandomizedSearchCV(\n",
    "    estimator=ensemble.RandomForestClassifier(random_state=42), \n",
    "    param_distributions=param_distributions, \n",
    "    cv=5\n",
    ")  \n",
    "%time random_search_forest.fit(X_train, y_train) \n",
    "y_train_pred = random_search_forest.predict(X_train)\n",
    "print('f1_score на обучающем наборе: {:.2f}'.format(metrics.f1_score(y_train, y_train_pred)))\n",
    "print(\"accuracy на тестовом наборе: {:.2f}\".format(random_search_forest.score(X_test, y_test)))\n",
    "y_test_pred = random_search_forest.predict(X_test)\n",
    "print('f1_score на тестовом наборе: {:.2f}'.format(metrics.f1_score(y_test, y_test_pred)))\n",
    "print(\"Наилучшие значения гиперпараметров: {}\".format(random_search_forest.best_params_))"
   ]
  },
  {
   "attachments": {},
   "cell_type": "markdown",
   "metadata": {},
   "source": [
    "### <center> Hyperopt"
   ]
  },
  {
   "attachments": {},
   "cell_type": "markdown",
   "metadata": {},
   "source": [
    "linear_model.LogisticRegression"
   ]
  },
  {
   "cell_type": "code",
   "execution_count": 84,
   "metadata": {},
   "outputs": [],
   "source": [
    "intercepts = [True, False]\n",
    "solvers1 = [\"newton-cg\", \"lbfgs\", ]\n",
    "solvers2 = [\"liblinear\", ]\n",
    "solvers3 = [\"saga\", ]\n",
    "penalties1 = [\"l2\", \"none\"]\n",
    "penalties2 = [\"l1\", \"l2\"]\n",
    "penalties3 = [\"l1\", \"elasticnet\", \"l2\"]\n",
    "\n",
    "case1 = {\n",
    "        \"penalty1\": hp.choice(\"penalty1\", penalties1),\n",
    "        \"solver1\": hp.choice(\"solver1\", solvers1)\n",
    "}\n",
    "case2 = {\n",
    "        \"penalty2\": hp.choice(\"penalty2\", penalties2),\n",
    "        \"solver2\": hp.choice(\"solver2\", solvers2)\n",
    "}\n",
    "case3 = {\n",
    "        \"penalty3\": hp.choice(\"penalty3\", penalties3),\n",
    "        \"solver3\": hp.choice(\"solver3\", solvers3)\n",
    "}\n",
    "\n",
    "search_space = {\n",
    "    \"C\": hp.uniform(\"C\", 1, 5),\n",
    "    \"fit_intercept\": hp.choice(\"fit_intercept\", intercepts),\n",
    "    \"cases\" : hp.choice(\"cases\", [(\"case1\", case1), (\"case2\", case2), (\"case3\", case3)])\n",
    "}"
   ]
  },
  {
   "cell_type": "code",
   "execution_count": 85,
   "metadata": {},
   "outputs": [],
   "source": [
    "def objective(args):\n",
    "    C = args[\"C\"]\n",
    "    fit_intercept = args[\"fit_intercept\"]\n",
    "    kwds = args[\"cases\"]\n",
    "    penalty = kwds[1][\"penalty1\"] if kwds[0] == \"case1\" else kwds[1][\"penalty2\"] if kwds[0] == \"case2\" else kwds[1][\"penalty3\"]\n",
    "    solver = kwds[1][\"solver1\"] if kwds[0] == \"case1\" else kwds[1][\"solver2\"] if kwds[0] == \"case2\" else kwds[1][\"solver3\"]\n",
    "\n",
    "    log_reg = linear_model.LogisticRegression(C=C,\n",
    "                                 fit_intercept=fit_intercept,\n",
    "                                 penalty=penalty,\n",
    "                                 solver=solver,\n",
    "                                 l1_ratio=0.5,\n",
    "                                 random_state=42)\n",
    "\n",
    "    log_reg.fit(X_train, y_train)\n",
    "\n",
    "    print(\"Hyperparameters : {}\".format(args)) \n",
    "    print(\"F1-Score : {}\\n\".format(log_reg.score(X_test, y_test)))\n",
    "    \n",
    "\n",
    "    return -1 * log_reg.score(X_test, y_test) "
   ]
  },
  {
   "cell_type": "code",
   "execution_count": 86,
   "metadata": {},
   "outputs": [
    {
     "name": "stdout",
     "output_type": "stream",
     "text": [
      "Hyperparameters : {'C': 2.1037389902076806, 'cases': ('case3', {'penalty3': 'elasticnet', 'solver3': 'saga'}), 'fit_intercept': False}\n",
      "F1-Score : 0.7603195739014648                         \n",
      "\n",
      " 10%|█         | 1/10 [00:26<03:59, 26.56s/trial, best loss: -0.7603195739014648]"
     ]
    },
    {
     "name": "stderr",
     "output_type": "stream",
     "text": [
      "c:\\Users\\Acer\\AppData\\Local\\Programs\\Python\\Python311\\Lib\\site-packages\\sklearn\\linear_model\\_sag.py:350: ConvergenceWarning: The max_iter was reached which means the coef_ did not converge\n",
      "  warnings.warn(\n",
      "\n"
     ]
    },
    {
     "name": "stdout",
     "output_type": "stream",
     "text": [
      "Hyperparameters : {'C': 1.3230538079005543, 'cases': ('case3', {'penalty3': 'elasticnet', 'solver3': 'saga'}), 'fit_intercept': True}\n",
      "F1-Score : 0.758988015978695                                                     \n",
      "\n",
      " 20%|██        | 2/10 [00:53<03:32, 26.55s/trial, best loss: -0.7603195739014648]"
     ]
    },
    {
     "name": "stderr",
     "output_type": "stream",
     "text": [
      "c:\\Users\\Acer\\AppData\\Local\\Programs\\Python\\Python311\\Lib\\site-packages\\sklearn\\linear_model\\_sag.py:350: ConvergenceWarning: The max_iter was reached which means the coef_ did not converge\n",
      "  warnings.warn(\n",
      "\n",
      "c:\\Users\\Acer\\AppData\\Local\\Programs\\Python\\Python311\\Lib\\site-packages\\sklearn\\linear_model\\_logistic.py:1165: UserWarning: l1_ratio parameter is only used when penalty is 'elasticnet'. Got (penalty=l2)\n",
      "  warnings.warn(\n",
      "\n"
     ]
    },
    {
     "name": "stdout",
     "output_type": "stream",
     "text": [
      "Hyperparameters : {'C': 4.510573247915898, 'cases': ('case1', {'penalty1': 'l2', 'solver1': 'lbfgs'}), 'fit_intercept': True}\n",
      "F1-Score : 0.7376830892143809                                                    \n",
      "\n",
      " 30%|███       | 3/10 [00:55<01:47, 15.36s/trial, best loss: -0.7603195739014648]"
     ]
    },
    {
     "name": "stderr",
     "output_type": "stream",
     "text": [
      "c:\\Users\\Acer\\AppData\\Local\\Programs\\Python\\Python311\\Lib\\site-packages\\sklearn\\linear_model\\_logistic.py:458: ConvergenceWarning: lbfgs failed to converge (status=1):\n",
      "STOP: TOTAL NO. of ITERATIONS REACHED LIMIT.\n",
      "\n",
      "Increase the number of iterations (max_iter) or scale the data as shown in:\n",
      "    https://scikit-learn.org/stable/modules/preprocessing.html\n",
      "Please also refer to the documentation for alternative solver options:\n",
      "    https://scikit-learn.org/stable/modules/linear_model.html#logistic-regression\n",
      "  n_iter_i = _check_optimize_result(\n",
      "\n"
     ]
    },
    {
     "name": "stdout",
     "output_type": "stream",
     "text": [
      "Hyperparameters : {'C': 4.317850764170986, 'cases': ('case3', {'penalty3': 'elasticnet', 'solver3': 'saga'}), 'fit_intercept': True}\n",
      "F1-Score : 0.7616511318242344                                                    \n",
      "\n",
      " 40%|████      | 4/10 [01:20<01:56, 19.47s/trial, best loss: -0.7616511318242344]"
     ]
    },
    {
     "name": "stderr",
     "output_type": "stream",
     "text": [
      "c:\\Users\\Acer\\AppData\\Local\\Programs\\Python\\Python311\\Lib\\site-packages\\sklearn\\linear_model\\_sag.py:350: ConvergenceWarning: The max_iter was reached which means the coef_ did not converge\n",
      "  warnings.warn(\n",
      "\n",
      "c:\\Users\\Acer\\AppData\\Local\\Programs\\Python\\Python311\\Lib\\site-packages\\sklearn\\linear_model\\_logistic.py:1165: UserWarning: l1_ratio parameter is only used when penalty is 'elasticnet'. Got (penalty=l2)\n",
      "  warnings.warn(\n",
      "\n"
     ]
    },
    {
     "name": "stdout",
     "output_type": "stream",
     "text": [
      "Hyperparameters : {'C': 3.10513567574049, 'cases': ('case3', {'penalty3': 'l2', 'solver3': 'saga'}), 'fit_intercept': True}\n",
      "F1-Score : 0.762982689747004                                                     \n",
      "\n",
      " 50%|█████     | 5/10 [01:33<01:24, 16.85s/trial, best loss: -0.762982689747004] "
     ]
    },
    {
     "name": "stderr",
     "output_type": "stream",
     "text": [
      "c:\\Users\\Acer\\AppData\\Local\\Programs\\Python\\Python311\\Lib\\site-packages\\sklearn\\linear_model\\_sag.py:350: ConvergenceWarning: The max_iter was reached which means the coef_ did not converge\n",
      "  warnings.warn(\n",
      "\n",
      "c:\\Users\\Acer\\AppData\\Local\\Programs\\Python\\Python311\\Lib\\site-packages\\sklearn\\linear_model\\_logistic.py:1165: UserWarning: l1_ratio parameter is only used when penalty is 'elasticnet'. Got (penalty=l2)\n",
      "  warnings.warn(\n",
      "\n"
     ]
    },
    {
     "name": "stdout",
     "output_type": "stream",
     "text": [
      "Hyperparameters : {'C': 3.4242545286665362, 'cases': ('case1', {'penalty1': 'l2', 'solver1': 'lbfgs'}), 'fit_intercept': False}\n",
      "F1-Score : 0.7430093209054593                                                   \n",
      "\n",
      " 60%|██████    | 6/10 [01:35<00:47, 11.82s/trial, best loss: -0.762982689747004]"
     ]
    },
    {
     "name": "stderr",
     "output_type": "stream",
     "text": [
      "c:\\Users\\Acer\\AppData\\Local\\Programs\\Python\\Python311\\Lib\\site-packages\\sklearn\\linear_model\\_logistic.py:458: ConvergenceWarning: lbfgs failed to converge (status=1):\n",
      "STOP: TOTAL NO. of ITERATIONS REACHED LIMIT.\n",
      "\n",
      "Increase the number of iterations (max_iter) or scale the data as shown in:\n",
      "    https://scikit-learn.org/stable/modules/preprocessing.html\n",
      "Please also refer to the documentation for alternative solver options:\n",
      "    https://scikit-learn.org/stable/modules/linear_model.html#logistic-regression\n",
      "  n_iter_i = _check_optimize_result(\n",
      "\n",
      "c:\\Users\\Acer\\AppData\\Local\\Programs\\Python\\Python311\\Lib\\site-packages\\sklearn\\linear_model\\_logistic.py:1165: UserWarning: l1_ratio parameter is only used when penalty is 'elasticnet'. Got (penalty=l1)\n",
      "  warnings.warn(\n",
      "\n"
     ]
    },
    {
     "name": "stdout",
     "output_type": "stream",
     "text": [
      "Hyperparameters : {'C': 2.8794787605245826, 'cases': ('case2', {'penalty2': 'l1', 'solver2': 'liblinear'}), 'fit_intercept': False}\n",
      "F1-Score : 0.7430093209054593                                                   \n",
      "\n",
      " 70%|███████   | 7/10 [01:40<00:29,  9.84s/trial, best loss: -0.762982689747004]"
     ]
    },
    {
     "name": "stderr",
     "output_type": "stream",
     "text": [
      "c:\\Users\\Acer\\AppData\\Local\\Programs\\Python\\Python311\\Lib\\site-packages\\sklearn\\linear_model\\_logistic.py:1165: UserWarning: l1_ratio parameter is only used when penalty is 'elasticnet'. Got (penalty=l2)\n",
      "  warnings.warn(\n",
      "\n"
     ]
    },
    {
     "name": "stdout",
     "output_type": "stream",
     "text": [
      "Hyperparameters : {'C': 3.8745665321383402, 'cases': ('case3', {'penalty3': 'l2', 'solver3': 'saga'}), 'fit_intercept': True}\n",
      "F1-Score : 0.762982689747004                                                    \n",
      "\n",
      " 80%|████████  | 8/10 [01:54<00:21, 10.96s/trial, best loss: -0.762982689747004]"
     ]
    },
    {
     "name": "stderr",
     "output_type": "stream",
     "text": [
      "c:\\Users\\Acer\\AppData\\Local\\Programs\\Python\\Python311\\Lib\\site-packages\\sklearn\\linear_model\\_sag.py:350: ConvergenceWarning: The max_iter was reached which means the coef_ did not converge\n",
      "  warnings.warn(\n",
      "\n",
      "c:\\Users\\Acer\\AppData\\Local\\Programs\\Python\\Python311\\Lib\\site-packages\\sklearn\\linear_model\\_logistic.py:1165: UserWarning: l1_ratio parameter is only used when penalty is 'elasticnet'. Got (penalty=l2)\n",
      "  warnings.warn(\n",
      "\n"
     ]
    },
    {
     "name": "stdout",
     "output_type": "stream",
     "text": [
      "Hyperparameters : {'C': 4.282464723597462, 'cases': ('case2', {'penalty2': 'l2', 'solver2': 'liblinear'}), 'fit_intercept': True}\n",
      "F1-Score : 0.7416777629826897                                                   \n",
      "\n",
      " 90%|█████████ | 9/10 [01:56<00:08,  8.27s/trial, best loss: -0.762982689747004]"
     ]
    },
    {
     "name": "stderr",
     "output_type": "stream",
     "text": [
      "c:\\Users\\Acer\\AppData\\Local\\Programs\\Python\\Python311\\Lib\\site-packages\\sklearn\\linear_model\\_logistic.py:1165: UserWarning: l1_ratio parameter is only used when penalty is 'elasticnet'. Got (penalty=l1)\n",
      "  warnings.warn(\n",
      "\n"
     ]
    },
    {
     "name": "stdout",
     "output_type": "stream",
     "text": [
      "Hyperparameters : {'C': 2.004442906321849, 'cases': ('case2', {'penalty2': 'l1', 'solver2': 'liblinear'}), 'fit_intercept': True}\n",
      "F1-Score : 0.7549933422103862                                                   \n",
      "\n",
      "100%|██████████| 10/10 [02:00<00:00, 12.07s/trial, best loss: -0.762982689747004]\n"
     ]
    }
   ],
   "source": [
    "trials_obj = hyperopt.Trials()\n",
    "\n",
    "best_results = hyperopt.fmin(objective,\n",
    "                             space=search_space,\n",
    "                             algo=hyperopt.tpe.suggest,\n",
    "                             trials=trials_obj,\n",
    "                             max_evals=10)"
   ]
  },
  {
   "cell_type": "code",
   "execution_count": 87,
   "metadata": {},
   "outputs": [
    {
     "name": "stdout",
     "output_type": "stream",
     "text": [
      "Best Hyperparameters Settings : {'C': 3.10513567574049, 'cases': 2, 'fit_intercept': 0, 'penalty3': 2, 'solver3': 0}\n",
      "\n",
      "F1-Score : 0.762982689747004\n"
     ]
    }
   ],
   "source": [
    "print(\"Best Hyperparameters Settings : {}\".format(best_results))\n",
    "print(\"\\nF1-Score : {}\".format(-1 * trials_obj.average_best_error()))"
   ]
  },
  {
   "cell_type": "code",
   "execution_count": 88,
   "metadata": {},
   "outputs": [
    {
     "name": "stdout",
     "output_type": "stream",
     "text": [
      "Наилучшие значения гиперпараметров : {'C': 3.10513567574049, 'penalty': 'l2', 'fit_intercept': True, 'solver': 'saga'}\n"
     ]
    }
   ],
   "source": [
    "C = best_results[\"C\"]\n",
    "fit_intercept = intercepts[best_results[\"fit_intercept\"]]\n",
    "if best_results[\"cases\"] == 0:\n",
    "    penalty = penalties1[best_results[\"penalty1\"]]\n",
    "    solver = solvers1[best_results[\"solver1\"]]\n",
    "elif best_results[\"cases\"] == 1:\n",
    "    penalty = penalties2[best_results[\"penalty2\"]]\n",
    "    solver = solvers2[best_results[\"solver2\"]]\n",
    "elif best_results[\"cases\"] == 2:\n",
    "    penalty = penalties3[best_results[\"penalty3\"]]\n",
    "    solver = solvers3[best_results[\"solver3\"]]\n",
    "\n",
    "print(\"Наилучшие значения гиперпараметров : {}\".format({\"C\":C,\n",
    "                                                   \"penalty\": penalty,\n",
    "                                                   \"fit_intercept\": fit_intercept,\n",
    "                                                   \"solver\":solver,\n",
    "                                                  }))"
   ]
  },
  {
   "cell_type": "code",
   "execution_count": 89,
   "metadata": {},
   "outputs": [
    {
     "name": "stdout",
     "output_type": "stream",
     "text": [
      "Test  F1-Score : 0.762982689747004\n",
      "Train F1-Score : 0.86\n"
     ]
    },
    {
     "name": "stderr",
     "output_type": "stream",
     "text": [
      "c:\\Users\\Acer\\AppData\\Local\\Programs\\Python\\Python311\\Lib\\site-packages\\sklearn\\linear_model\\_sag.py:350: ConvergenceWarning: The max_iter was reached which means the coef_ did not converge\n",
      "  warnings.warn(\n"
     ]
    }
   ],
   "source": [
    "log_reg = linear_model.LogisticRegression(C=C,\n",
    "                             penalty=penalty,\n",
    "                             fit_intercept=fit_intercept,\n",
    "                             solver=solver,\n",
    "                             random_state=42)\n",
    "\n",
    "log_reg.fit(X_train, y_train)\n",
    "\n",
    "print(\"Test  F1-Score : {}\".format(log_reg.score(X_test, y_test)))\n",
    "print(\"Train F1-Score : {}\".format(log_reg.score(X_train, y_train)))"
   ]
  },
  {
   "attachments": {},
   "cell_type": "markdown",
   "metadata": {},
   "source": [
    "ensemble.RandomForestClassifier"
   ]
  },
  {
   "cell_type": "code",
   "execution_count": 90,
   "metadata": {},
   "outputs": [],
   "source": [
    "# зададим пространство поиска гиперпараметров\n",
    "space={'n_estimators': hp.quniform('n_estimators', 100, 300, 10),\n",
    "       'max_depth' : hp.quniform('max_depth', 15, 40, 1),\n",
    "       'min_samples_leaf': hp.quniform('min_samples_leaf', 3, 7, 1)\n",
    "      }"
   ]
  },
  {
   "cell_type": "code",
   "execution_count": 91,
   "metadata": {},
   "outputs": [],
   "source": [
    "# зафксируем random_state\n",
    "random_state = 42\n",
    "def hyperopt_rf(params, cv=5, X=X_train, y=y_train, random_state=random_state):\n",
    "    # функция получает комбинацию гиперпараметров в \"params\"\n",
    "    params = {'n_estimators': int(params['n_estimators']), \n",
    "              'max_depth': int(params['max_depth']), \n",
    "             'min_samples_leaf': int(params['min_samples_leaf'])\n",
    "              }\n",
    "  \n",
    "    # используем эту комбинацию для построения модели\n",
    "    RandomForest_model = ensemble.RandomForestClassifier(**params, random_state=random_state)\n",
    "\n",
    "    # обучаем модель\n",
    "    RandomForest_model.fit(X, y)\n",
    "    score = metrics.f1_score(y, RandomForest_model.predict(X))\n",
    "    \n",
    "    # обучать модель можно также с помощью кросс-валидации\n",
    "    # применим  cross validation с тем же количеством фолдов\n",
    "    # score = cross_val_score(model, X, y, cv=cv, scoring=\"f1\", n_jobs=-1).mean()\n",
    "\n",
    "    # метрику необходимо минимизировать, поэтому ставим знак минус\n",
    "    return -score"
   ]
  },
  {
   "cell_type": "code",
   "execution_count": 92,
   "metadata": {},
   "outputs": [
    {
     "name": "stdout",
     "output_type": "stream",
     "text": [
      "100%|██████████| 20/20 [02:18<00:00,  6.91s/trial, best loss: -0.9779546846295162]\n",
      "Наилучшие значения гиперпараметров {'max_depth': 22.0, 'min_samples_leaf': 3.0, 'n_estimators': 200.0}\n",
      "CPU times: total: 2min 7s\n",
      "Wall time: 2min 18s\n"
     ]
    }
   ],
   "source": [
    "%%time\n",
    "# начинаем подбор гиперпараметров\n",
    "trials = Trials() # используется для логирования результатов\n",
    "\n",
    "best=fmin(hyperopt_rf, # наша функция \n",
    "          space=space, # пространство гиперпараметров\n",
    "          algo=tpe.suggest, # алгоритм оптимизации, установлен по умолчанию, задавать необязательно\n",
    "          max_evals=20, # максимальное количество итераций\n",
    "          trials=trials, # логирование результатов\n",
    "          rstate=np.random.default_rng(random_state)# фиксируем для повторяемости результата\n",
    "         )\n",
    "print(\"Наилучшие значения гиперпараметров {}\".format(best))"
   ]
  },
  {
   "cell_type": "code",
   "execution_count": 93,
   "metadata": {},
   "outputs": [
    {
     "name": "stdout",
     "output_type": "stream",
     "text": [
      "f1_score на обучающем наборе: 0.98\n",
      "accuracy на тестовом наборе: 0.81\n",
      "f1_score на тестовом наборе: 0.83\n"
     ]
    }
   ],
   "source": [
    "# рассчитаем точность для тестовой выборки\n",
    "RandomForest_model = ensemble.RandomForestClassifier(\n",
    "    random_state=random_state, \n",
    "    n_estimators=int(best['n_estimators']),\n",
    "    max_depth=int(best['max_depth']),\n",
    "    min_samples_leaf=int(best['min_samples_leaf'])\n",
    ")\n",
    "RandomForest_model.fit(X_train, y_train)\n",
    "y_train_pred = RandomForest_model.predict(X_train)\n",
    "print('f1_score на обучающем наборе: {:.2f}'.format(metrics.f1_score(y_train, y_train_pred)))\n",
    "print(\"accuracy на тестовом наборе: {:.2f}\".format(RandomForest_model.score(X_test, y_test)))\n",
    "y_test_pred = RandomForest_model.predict(X_test)\n",
    "print('f1_score на тестовом наборе: {:.2f}'.format(metrics.f1_score(y_test, y_test_pred)))"
   ]
  },
  {
   "attachments": {},
   "cell_type": "markdown",
   "metadata": {},
   "source": [
    "## <center> Optuna"
   ]
  },
  {
   "attachments": {},
   "cell_type": "markdown",
   "metadata": {},
   "source": [
    "ensemble.RandomForestClassifier"
   ]
  },
  {
   "cell_type": "code",
   "execution_count": 94,
   "metadata": {},
   "outputs": [],
   "source": [
    "def optuna_rf(trial):\n",
    "  # задаем пространства поиска гиперпараметров\n",
    "  n_estimators = trial.suggest_int('n_estimators', 100, 200, 1)\n",
    "  max_depth = trial.suggest_int('max_depth', 10, 30, 1)\n",
    "  min_samples_leaf = trial.suggest_int('min_samples_leaf', 2, 10, 1)\n",
    "\n",
    "  # создаем модель\n",
    "  Optuna_model_RF = ensemble.RandomForestClassifier(n_estimators=n_estimators,\n",
    "                                          max_depth=max_depth,\n",
    "                                          min_samples_leaf=min_samples_leaf,\n",
    "                                          random_state=random_state)\n",
    "  # обучаем модель\n",
    "  Optuna_model_RF.fit(X_train, y_train)\n",
    "  score = metrics.f1_score(y_train, Optuna_model_RF.predict(X_train))\n",
    "\n",
    "  return score"
   ]
  },
  {
   "cell_type": "code",
   "execution_count": 95,
   "metadata": {},
   "outputs": [
    {
     "name": "stderr",
     "output_type": "stream",
     "text": [
      "\u001b[32m[I 2023-05-12 04:16:26,711]\u001b[0m A new study created in memory with name: RandomForestClassifier\u001b[0m\n",
      "\u001b[32m[I 2023-05-12 04:16:34,850]\u001b[0m Trial 0 finished with value: 0.9573170731707317 and parameters: {'n_estimators': 195, 'max_depth': 18, 'min_samples_leaf': 4}. Best is trial 0 with value: 0.9573170731707317.\u001b[0m\n",
      "\u001b[32m[I 2023-05-12 04:16:40,754]\u001b[0m Trial 1 finished with value: 0.906087488528602 and parameters: {'n_estimators': 193, 'max_depth': 20, 'min_samples_leaf': 9}. Best is trial 0 with value: 0.9573170731707317.\u001b[0m\n",
      "\u001b[32m[I 2023-05-12 04:16:46,397]\u001b[0m Trial 2 finished with value: 0.9326393141457441 and parameters: {'n_estimators': 169, 'max_depth': 15, 'min_samples_leaf': 6}. Best is trial 0 with value: 0.9573170731707317.\u001b[0m\n",
      "\u001b[32m[I 2023-05-12 04:16:51,620]\u001b[0m Trial 3 finished with value: 0.901038485033598 and parameters: {'n_estimators': 177, 'max_depth': 16, 'min_samples_leaf': 10}. Best is trial 0 with value: 0.9573170731707317.\u001b[0m\n",
      "\u001b[32m[I 2023-05-12 04:16:57,516]\u001b[0m Trial 4 finished with value: 0.9895705521472393 and parameters: {'n_estimators': 141, 'max_depth': 19, 'min_samples_leaf': 2}. Best is trial 4 with value: 0.9895705521472393.\u001b[0m\n",
      "\u001b[32m[I 2023-05-12 04:17:04,595]\u001b[0m Trial 5 finished with value: 0.9566279780085521 and parameters: {'n_estimators': 199, 'max_depth': 13, 'min_samples_leaf': 3}. Best is trial 4 with value: 0.9895705521472393.\u001b[0m\n",
      "\u001b[32m[I 2023-05-12 04:17:09,217]\u001b[0m Trial 6 finished with value: 0.9326393141457441 and parameters: {'n_estimators': 146, 'max_depth': 10, 'min_samples_leaf': 2}. Best is trial 4 with value: 0.9895705521472393.\u001b[0m\n",
      "\u001b[32m[I 2023-05-12 04:17:13,376]\u001b[0m Trial 7 finished with value: 0.9134673979280926 and parameters: {'n_estimators': 126, 'max_depth': 21, 'min_samples_leaf': 8}. Best is trial 4 with value: 0.9895705521472393.\u001b[0m\n",
      "\u001b[32m[I 2023-05-12 04:17:17,999]\u001b[0m Trial 8 finished with value: 0.9435459261519683 and parameters: {'n_estimators': 131, 'max_depth': 13, 'min_samples_leaf': 4}. Best is trial 4 with value: 0.9895705521472393.\u001b[0m\n",
      "\u001b[32m[I 2023-05-12 04:17:26,359]\u001b[0m Trial 9 finished with value: 0.926412213740458 and parameters: {'n_estimators': 188, 'max_depth': 27, 'min_samples_leaf': 7}. Best is trial 4 with value: 0.9895705521472393.\u001b[0m\n",
      "\u001b[32m[I 2023-05-12 04:17:32,466]\u001b[0m Trial 10 finished with value: 0.945054945054945 and parameters: {'n_estimators': 101, 'max_depth': 26, 'min_samples_leaf': 5}. Best is trial 4 with value: 0.9895705521472393.\u001b[0m\n",
      "\u001b[32m[I 2023-05-12 04:17:43,687]\u001b[0m Trial 11 finished with value: 0.9908031882280809 and parameters: {'n_estimators': 159, 'max_depth': 20, 'min_samples_leaf': 2}. Best is trial 11 with value: 0.9908031882280809.\u001b[0m\n",
      "\u001b[32m[I 2023-05-12 04:17:52,578]\u001b[0m Trial 12 finished with value: 0.9917304747320062 and parameters: {'n_estimators': 159, 'max_depth': 23, 'min_samples_leaf': 2}. Best is trial 12 with value: 0.9917304747320062.\u001b[0m\n",
      "\u001b[32m[I 2023-05-12 04:18:01,777]\u001b[0m Trial 13 finished with value: 0.9920343137254902 and parameters: {'n_estimators': 162, 'max_depth': 23, 'min_samples_leaf': 2}. Best is trial 13 with value: 0.9920343137254902.\u001b[0m\n",
      "\u001b[32m[I 2023-05-12 04:18:09,632]\u001b[0m Trial 14 finished with value: 0.9556167737985919 and parameters: {'n_estimators': 161, 'max_depth': 24, 'min_samples_leaf': 4}. Best is trial 13 with value: 0.9920343137254902.\u001b[0m\n",
      "\u001b[32m[I 2023-05-12 04:18:18,179]\u001b[0m Trial 15 finished with value: 0.9352078239608802 and parameters: {'n_estimators': 153, 'max_depth': 30, 'min_samples_leaf': 6}. Best is trial 13 with value: 0.9920343137254902.\u001b[0m\n",
      "\u001b[32m[I 2023-05-12 04:18:29,644]\u001b[0m Trial 16 finished with value: 0.9776416539050536 and parameters: {'n_estimators': 178, 'max_depth': 23, 'min_samples_leaf': 3}. Best is trial 13 with value: 0.9920343137254902.\u001b[0m\n",
      "\u001b[32m[I 2023-05-12 04:18:37,574]\u001b[0m Trial 17 finished with value: 0.9767014101778051 and parameters: {'n_estimators': 134, 'max_depth': 23, 'min_samples_leaf': 3}. Best is trial 13 with value: 0.9920343137254902.\u001b[0m\n",
      "\u001b[32m[I 2023-05-12 04:18:46,422]\u001b[0m Trial 18 finished with value: 0.9466300701433363 and parameters: {'n_estimators': 170, 'max_depth': 29, 'min_samples_leaf': 5}. Best is trial 13 with value: 0.9920343137254902.\u001b[0m\n",
      "\u001b[32m[I 2023-05-12 04:18:53,713]\u001b[0m Trial 19 finished with value: 0.9908088235294118 and parameters: {'n_estimators': 116, 'max_depth': 26, 'min_samples_leaf': 2}. Best is trial 13 with value: 0.9920343137254902.\u001b[0m\n"
     ]
    },
    {
     "name": "stdout",
     "output_type": "stream",
     "text": [
      "CPU times: total: 1min 59s\n",
      "Wall time: 2min 27s\n"
     ]
    }
   ],
   "source": [
    "%%time\n",
    "# cоздаем объект исследования\n",
    "# можем напрямую указать, что нам необходимо максимизировать метрику direction=\"maximize\"\n",
    "study = optuna.create_study(study_name=\"RandomForestClassifier\", direction=\"maximize\")\n",
    "# ищем лучшую комбинацию гиперпараметров n_trials раз\n",
    "study.optimize(optuna_rf, n_trials=20)"
   ]
  },
  {
   "cell_type": "code",
   "execution_count": 96,
   "metadata": {},
   "outputs": [
    {
     "name": "stdout",
     "output_type": "stream",
     "text": [
      "Наилучшие значения гиперпараметров {'n_estimators': 162, 'max_depth': 23, 'min_samples_leaf': 2}\n",
      "f1_score на обучающем наборе: 0.99\n"
     ]
    }
   ],
   "source": [
    "# выводим результаты на обучающей выборке\n",
    "print(\"Наилучшие значения гиперпараметров {}\".format(study.best_params))\n",
    "print(\"f1_score на обучающем наборе: {:.2f}\".format(study.best_value))"
   ]
  },
  {
   "cell_type": "code",
   "execution_count": 97,
   "metadata": {},
   "outputs": [
    {
     "name": "stdout",
     "output_type": "stream",
     "text": [
      "accuracy на тестовом наборе: 0.80\n",
      "f1_score на тестовом наборе: 0.82\n",
      "f1_score на обучающем наборе: 0.99\n"
     ]
    }
   ],
   "source": [
    "\n",
    "model3 = ensemble.RandomForestClassifier(**study.best_params,random_state=random_state, )\n",
    "model3.fit(X_train, y_train)\n",
    "y_train_pred = model3.predict(X_train)\n",
    "print(\"accuracy на тестовом наборе: {:.2f}\".format(model3.score(X_test, y_test)))\n",
    "y_test_pred = model3.predict(X_test)\n",
    "print('f1_score на тестовом наборе: {:.2f}'.format(metrics.f1_score(y_test, y_test_pred)))\n",
    "print('f1_score на обучающем наборе: {:.2f}'.format(metrics.f1_score(y_train, y_train_pred)))"
   ]
  },
  {
   "attachments": {},
   "cell_type": "markdown",
   "metadata": {},
   "source": [
    "linear_model.LogisticRegression"
   ]
  },
  {
   "cell_type": "code",
   "execution_count": 101,
   "metadata": {},
   "outputs": [],
   "source": [
    "def objective_RF(trial):\n",
    "    penalty = trial.suggest_categorical(\"penalty\", [\"l1\", \"l2\"])\n",
    "    tol = trial.suggest_float(\"tol\", 0.0001, 0.01, log=True)\n",
    "    C = trial.suggest_float(\"C\", 1.0, 10.0, log=True)\n",
    "    intercept = trial.suggest_categorical(\"fit_intercept\", [True, False])\n",
    "    solver = trial.suggest_categorical(\"solver\", [\"liblinear\", \"saga\"])\n",
    "\n",
    "    ## Create Model\n",
    "    classifier = linear_model.LogisticRegression(penalty=penalty,\n",
    "                                    tol=tol,\n",
    "                                    C=C,\n",
    "                                    fit_intercept=intercept,\n",
    "                                    solver=solver,\n",
    "                                    multi_class=\"auto\",\n",
    "                                   )\n",
    "    ## Fit Model\n",
    "    classifier.fit(X_train, y_train)\n",
    "\n",
    "    return classifier.score(X_test, y_test) "
   ]
  },
  {
   "cell_type": "code",
   "execution_count": 102,
   "metadata": {},
   "outputs": [
    {
     "name": "stderr",
     "output_type": "stream",
     "text": [
      "\u001b[32m[I 2023-05-12 04:32:37,651]\u001b[0m A new study created in memory with name: LogisticRegression\u001b[0m\n",
      "\u001b[32m[I 2023-05-12 04:32:40,864]\u001b[0m Trial 0 finished with value: 0.7443408788282291 and parameters: {'penalty': 'l2', 'tol': 0.0023043057052372475, 'C': 2.4772232180378064, 'fit_intercept': False, 'solver': 'liblinear'}. Best is trial 0 with value: 0.7443408788282291.\u001b[0m\n",
      "c:\\Users\\Acer\\AppData\\Local\\Programs\\Python\\Python311\\Lib\\site-packages\\sklearn\\linear_model\\_sag.py:350: ConvergenceWarning: The max_iter was reached which means the coef_ did not converge\n",
      "  warnings.warn(\n",
      "\u001b[32m[I 2023-05-12 04:33:16,319]\u001b[0m Trial 1 finished with value: 0.762982689747004 and parameters: {'penalty': 'l1', 'tol': 0.0024338542508799623, 'C': 7.924200177089832, 'fit_intercept': True, 'solver': 'saga'}. Best is trial 1 with value: 0.762982689747004.\u001b[0m\n",
      "\u001b[32m[I 2023-05-12 04:33:24,036]\u001b[0m Trial 2 finished with value: 0.7217043941411452 and parameters: {'penalty': 'l1', 'tol': 0.0009405308114384096, 'C': 9.052887291463513, 'fit_intercept': False, 'solver': 'liblinear'}. Best is trial 1 with value: 0.762982689747004.\u001b[0m\n",
      "\u001b[32m[I 2023-05-12 04:33:45,309]\u001b[0m Trial 3 finished with value: 0.7270306258322237 and parameters: {'penalty': 'l1', 'tol': 0.00015410823346589575, 'C': 8.250121694922475, 'fit_intercept': False, 'solver': 'liblinear'}. Best is trial 1 with value: 0.762982689747004.\u001b[0m\n",
      "\u001b[32m[I 2023-05-12 04:33:46,549]\u001b[0m Trial 4 finished with value: 0.758988015978695 and parameters: {'penalty': 'l1', 'tol': 0.006205524509146082, 'C': 1.569233893643875, 'fit_intercept': True, 'solver': 'liblinear'}. Best is trial 1 with value: 0.762982689747004.\u001b[0m\n",
      "\u001b[32m[I 2023-05-12 04:33:48,494]\u001b[0m Trial 5 finished with value: 0.7496671105193076 and parameters: {'penalty': 'l1', 'tol': 0.0020405645358998526, 'C': 2.786539261163555, 'fit_intercept': True, 'solver': 'liblinear'}. Best is trial 1 with value: 0.762982689747004.\u001b[0m\n",
      "\u001b[32m[I 2023-05-12 04:33:51,440]\u001b[0m Trial 6 finished with value: 0.7456724367509987 and parameters: {'penalty': 'l2', 'tol': 0.0032019155741562174, 'C': 3.2026725298891967, 'fit_intercept': False, 'solver': 'liblinear'}. Best is trial 1 with value: 0.762982689747004.\u001b[0m\n",
      "\u001b[32m[I 2023-05-12 04:33:53,304]\u001b[0m Trial 7 finished with value: 0.748335552596538 and parameters: {'penalty': 'l2', 'tol': 0.001653103902652076, 'C': 1.544702086200869, 'fit_intercept': True, 'solver': 'liblinear'}. Best is trial 1 with value: 0.762982689747004.\u001b[0m\n",
      "c:\\Users\\Acer\\AppData\\Local\\Programs\\Python\\Python311\\Lib\\site-packages\\sklearn\\linear_model\\_sag.py:350: ConvergenceWarning: The max_iter was reached which means the coef_ did not converge\n",
      "  warnings.warn(\n",
      "\u001b[32m[I 2023-05-12 04:34:27,312]\u001b[0m Trial 8 finished with value: 0.7643142476697736 and parameters: {'penalty': 'l1', 'tol': 0.0006371145680922662, 'C': 1.0147456174560026, 'fit_intercept': False, 'solver': 'saga'}. Best is trial 8 with value: 0.7643142476697736.\u001b[0m\n",
      "\u001b[32m[I 2023-05-12 04:34:31,008]\u001b[0m Trial 9 finished with value: 0.7363515312916112 and parameters: {'penalty': 'l2', 'tol': 0.002088349113928308, 'C': 5.619587117866423, 'fit_intercept': False, 'solver': 'liblinear'}. Best is trial 8 with value: 0.7643142476697736.\u001b[0m\n",
      "c:\\Users\\Acer\\AppData\\Local\\Programs\\Python\\Python311\\Lib\\site-packages\\sklearn\\linear_model\\_sag.py:350: ConvergenceWarning: The max_iter was reached which means the coef_ did not converge\n",
      "  warnings.warn(\n",
      "\u001b[32m[I 2023-05-12 04:35:04,878]\u001b[0m Trial 10 finished with value: 0.7643142476697736 and parameters: {'penalty': 'l1', 'tol': 0.0005385084121932518, 'C': 1.0090643947778348, 'fit_intercept': False, 'solver': 'saga'}. Best is trial 8 with value: 0.7643142476697736.\u001b[0m\n",
      "c:\\Users\\Acer\\AppData\\Local\\Programs\\Python\\Python311\\Lib\\site-packages\\sklearn\\linear_model\\_sag.py:350: ConvergenceWarning: The max_iter was reached which means the coef_ did not converge\n",
      "  warnings.warn(\n",
      "\u001b[32m[I 2023-05-12 04:35:34,585]\u001b[0m Trial 11 finished with value: 0.7643142476697736 and parameters: {'penalty': 'l1', 'tol': 0.0005238276513088388, 'C': 1.0226349098950518, 'fit_intercept': False, 'solver': 'saga'}. Best is trial 8 with value: 0.7643142476697736.\u001b[0m\n",
      "c:\\Users\\Acer\\AppData\\Local\\Programs\\Python\\Python311\\Lib\\site-packages\\sklearn\\linear_model\\_sag.py:350: ConvergenceWarning: The max_iter was reached which means the coef_ did not converge\n",
      "  warnings.warn(\n",
      "\u001b[32m[I 2023-05-12 04:36:00,870]\u001b[0m Trial 12 finished with value: 0.7643142476697736 and parameters: {'penalty': 'l1', 'tol': 0.0004396946336122963, 'C': 1.0356846974229572, 'fit_intercept': False, 'solver': 'saga'}. Best is trial 8 with value: 0.7643142476697736.\u001b[0m\n",
      "c:\\Users\\Acer\\AppData\\Local\\Programs\\Python\\Python311\\Lib\\site-packages\\sklearn\\linear_model\\_sag.py:350: ConvergenceWarning: The max_iter was reached which means the coef_ did not converge\n",
      "  warnings.warn(\n",
      "\u001b[32m[I 2023-05-12 04:36:34,713]\u001b[0m Trial 13 finished with value: 0.758988015978695 and parameters: {'penalty': 'l1', 'tol': 0.00032077872703843865, 'C': 1.4038942080211458, 'fit_intercept': False, 'solver': 'saga'}. Best is trial 8 with value: 0.7643142476697736.\u001b[0m\n",
      "c:\\Users\\Acer\\AppData\\Local\\Programs\\Python\\Python311\\Lib\\site-packages\\sklearn\\linear_model\\_sag.py:350: ConvergenceWarning: The max_iter was reached which means the coef_ did not converge\n",
      "  warnings.warn(\n",
      "\u001b[32m[I 2023-05-12 04:37:06,244]\u001b[0m Trial 14 finished with value: 0.7643142476697736 and parameters: {'penalty': 'l1', 'tol': 0.000830461597149483, 'C': 1.0026917123021424, 'fit_intercept': False, 'solver': 'saga'}. Best is trial 8 with value: 0.7643142476697736.\u001b[0m\n"
     ]
    },
    {
     "name": "stdout",
     "output_type": "stream",
     "text": [
      "CPU times: total: 2min 45s\n",
      "Wall time: 4min 28s\n"
     ]
    }
   ],
   "source": [
    "%%time\n",
    "\n",
    "study3 = optuna.create_study(study_name=\"LogisticRegression\", direction=\"maximize\")\n",
    "study3.optimize(objective_RF, n_trials=15)"
   ]
  },
  {
   "cell_type": "code",
   "execution_count": 104,
   "metadata": {},
   "outputs": [
    {
     "name": "stdout",
     "output_type": "stream",
     "text": [
      "Best Params : {'penalty': 'l1', 'tol': 0.0006371145680922662, 'C': 1.0147456174560026, 'fit_intercept': False, 'solver': 'saga'}\n",
      "\n",
      "f1_score : 0.7643142476697736\n"
     ]
    }
   ],
   "source": [
    "print(\"Best Params : {}\".format(study3.best_params))\n",
    "\n",
    "print(\"\\nf1_score : {}\".format(study3.best_value))"
   ]
  },
  {
   "cell_type": "code",
   "execution_count": 107,
   "metadata": {},
   "outputs": [
    {
     "name": "stdout",
     "output_type": "stream",
     "text": [
      "accuracy на тестовом наборе: 0.76\n",
      "f1_score на тестовом наборе: 0.79\n",
      "f1_score на обучающем наборе: 0.86\n"
     ]
    },
    {
     "name": "stderr",
     "output_type": "stream",
     "text": [
      "c:\\Users\\Acer\\AppData\\Local\\Programs\\Python\\Python311\\Lib\\site-packages\\sklearn\\linear_model\\_sag.py:350: ConvergenceWarning: The max_iter was reached which means the coef_ did not converge\n",
      "  warnings.warn(\n"
     ]
    }
   ],
   "source": [
    "classifier = linear_model.LogisticRegression(**study3.best_params, multi_class=\"auto\")\n",
    "\n",
    "classifier.fit(X_train, y_train)\n",
    "\n",
    "y_train_pred = classifier.predict(X_train)\n",
    "print(\"accuracy на тестовом наборе: {:.2f}\".format(classifier.score(X_test, y_test)))\n",
    "y_test_pred = classifier.predict(X_test)\n",
    "print('f1_score на тестовом наборе: {:.2f}'.format(metrics.f1_score(y_test, y_test_pred)))\n",
    "print('f1_score на обучающем наборе: {:.2f}'.format(metrics.f1_score(y_train, y_train_pred)))"
   ]
  }
 ],
 "metadata": {
  "kernelspec": {
   "display_name": "Python 3",
   "language": "python",
   "name": "python3"
  },
  "language_info": {
   "codemirror_mode": {
    "name": "ipython",
    "version": 3
   },
   "file_extension": ".py",
   "mimetype": "text/x-python",
   "name": "python",
   "nbconvert_exporter": "python",
   "pygments_lexer": "ipython3",
   "version": "3.11.3"
  },
  "orig_nbformat": 4
 },
 "nbformat": 4,
 "nbformat_minor": 2
}
