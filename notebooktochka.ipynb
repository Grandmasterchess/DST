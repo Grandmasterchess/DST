{
 "cells": [
  {
   "cell_type": "code",
   "execution_count": 1,
   "id": "49a8a4e7",
   "metadata": {
    "_cell_guid": "b1076dfc-b9ad-4769-8c92-a6c4dae69d19",
    "_uuid": "8f2839f25d086af736a60e9eeb907d3b93b6e0e5",
    "execution": {
     "iopub.execute_input": "2023-04-27T16:10:12.608419Z",
     "iopub.status.busy": "2023-04-27T16:10:12.608008Z",
     "iopub.status.idle": "2023-04-27T16:10:14.716202Z",
     "shell.execute_reply": "2023-04-27T16:10:14.714778Z"
    },
    "papermill": {
     "duration": 2.128221,
     "end_time": "2023-04-27T16:10:14.719903",
     "exception": false,
     "start_time": "2023-04-27T16:10:12.591682",
     "status": "completed"
    },
    "tags": []
   },
   "outputs": [
    {
     "name": "stdout",
     "output_type": "stream",
     "text": [
      "/kaggle/input/sf-booking/hotels_test.csv\n",
      "/kaggle/input/sf-booking/hotels_train.csv\n",
      "/kaggle/input/sf-booking/submission.csv\n"
     ]
    }
   ],
   "source": [
    "# This Python 3 environment comes with many helpful analytics libraries installed\n",
    "# It is defined by the kaggle/python Docker image: https://github.com/kaggle/docker-python\n",
    "# For example, here's several helpful packages to load\n",
    "\n",
    "import numpy as np \n",
    "import pandas as pd \n",
    "import matplotlib.pyplot as plt\n",
    "import seaborn as sns \n",
    "from sklearn.model_selection import train_test_split\n",
    "import os\n",
    "import category_encoders as ce\n",
    "import statistics\n",
    "from collections import Counter\n",
    "\n",
    "# Input data files are available in the read-only \"../input/\" directory\n",
    "# For example, running this (by clicking run or pressing Shift+Enter) will list all files under the input directory\n",
    "\n",
    "import os\n",
    "for dirname, _, filenames in os.walk('/kaggle/input'):\n",
    "    for filename in filenames:\n",
    "        print(os.path.join(dirname, filename))\n",
    "\n",
    "# You can write up to 20GB to the current directory (/kaggle/working/) that gets preserved as output when you create a version using \"Save & Run All\" \n",
    "# You can also write temporary files to /kaggle/temp/, but they won't be saved outside of the current session"
   ]
  },
  {
   "cell_type": "code",
   "execution_count": 2,
   "id": "2a835c05",
   "metadata": {
    "execution": {
     "iopub.execute_input": "2023-04-27T16:10:14.752320Z",
     "iopub.status.busy": "2023-04-27T16:10:14.751355Z",
     "iopub.status.idle": "2023-04-27T16:10:14.757828Z",
     "shell.execute_reply": "2023-04-27T16:10:14.756413Z"
    },
    "papermill": {
     "duration": 0.024486,
     "end_time": "2023-04-27T16:10:14.761068",
     "exception": false,
     "start_time": "2023-04-27T16:10:14.736582",
     "status": "completed"
    },
    "tags": []
   },
   "outputs": [],
   "source": [
    "# всегда фиксируйте RANDOM_SEED, чтобы ваши эксперименты были воспроизводимы!\n",
    "RANDOM_SEED = 42"
   ]
  },
  {
   "cell_type": "code",
   "execution_count": 3,
   "id": "3638e062",
   "metadata": {
    "execution": {
     "iopub.execute_input": "2023-04-27T16:10:14.787892Z",
     "iopub.status.busy": "2023-04-27T16:10:14.787369Z",
     "iopub.status.idle": "2023-04-27T16:10:18.894578Z",
     "shell.execute_reply": "2023-04-27T16:10:18.892345Z"
    },
    "papermill": {
     "duration": 4.124464,
     "end_time": "2023-04-27T16:10:18.897857",
     "exception": false,
     "start_time": "2023-04-27T16:10:14.773393",
     "status": "completed"
    },
    "tags": []
   },
   "outputs": [],
   "source": [
    "# зафиксируем версию пакетов, чтобы эксперименты были воспроизводимы:\n",
    "!pip freeze > requirements.txt"
   ]
  },
  {
   "cell_type": "code",
   "execution_count": 4,
   "id": "315ae02e",
   "metadata": {
    "execution": {
     "iopub.execute_input": "2023-04-27T16:10:18.926354Z",
     "iopub.status.busy": "2023-04-27T16:10:18.925836Z",
     "iopub.status.idle": "2023-04-27T16:10:25.942368Z",
     "shell.execute_reply": "2023-04-27T16:10:25.941287Z"
    },
    "papermill": {
     "duration": 7.033637,
     "end_time": "2023-04-27T16:10:25.945300",
     "exception": false,
     "start_time": "2023-04-27T16:10:18.911663",
     "status": "completed"
    },
    "tags": []
   },
   "outputs": [],
   "source": [
    "# Подгрузим наши данные из соревнования\n",
    "\n",
    "DATA_DIR = '/kaggle/input/sf-booking/'\n",
    "df_train = pd.read_csv(DATA_DIR+'/hotels_train.csv') # датасет для обучения\n",
    "df_test = pd.read_csv(DATA_DIR+'hotels_test.csv') # датасет для предсказания\n",
    "sample_submission = pd.read_csv(DATA_DIR+'/submission.csv') # самбмишн"
   ]
  },
  {
   "cell_type": "code",
   "execution_count": 5,
   "id": "d5e2fd5f",
   "metadata": {
    "execution": {
     "iopub.execute_input": "2023-04-27T16:10:25.971689Z",
     "iopub.status.busy": "2023-04-27T16:10:25.971026Z",
     "iopub.status.idle": "2023-04-27T16:10:26.181259Z",
     "shell.execute_reply": "2023-04-27T16:10:26.179065Z"
    },
    "papermill": {
     "duration": 0.227106,
     "end_time": "2023-04-27T16:10:26.184364",
     "exception": false,
     "start_time": "2023-04-27T16:10:25.957258",
     "status": "completed"
    },
    "tags": []
   },
   "outputs": [
    {
     "name": "stdout",
     "output_type": "stream",
     "text": [
      "<class 'pandas.core.frame.DataFrame'>\n",
      "RangeIndex: 386803 entries, 0 to 386802\n",
      "Data columns (total 17 columns):\n",
      " #   Column                                      Non-Null Count   Dtype  \n",
      "---  ------                                      --------------   -----  \n",
      " 0   hotel_address                               386803 non-null  object \n",
      " 1   additional_number_of_scoring                386803 non-null  int64  \n",
      " 2   review_date                                 386803 non-null  object \n",
      " 3   average_score                               386803 non-null  float64\n",
      " 4   hotel_name                                  386803 non-null  object \n",
      " 5   reviewer_nationality                        386803 non-null  object \n",
      " 6   negative_review                             386803 non-null  object \n",
      " 7   review_total_negative_word_counts           386803 non-null  int64  \n",
      " 8   total_number_of_reviews                     386803 non-null  int64  \n",
      " 9   positive_review                             386803 non-null  object \n",
      " 10  review_total_positive_word_counts           386803 non-null  int64  \n",
      " 11  total_number_of_reviews_reviewer_has_given  386803 non-null  int64  \n",
      " 12  reviewer_score                              386803 non-null  float64\n",
      " 13  tags                                        386803 non-null  object \n",
      " 14  days_since_review                           386803 non-null  object \n",
      " 15  lat                                         384355 non-null  float64\n",
      " 16  lng                                         384355 non-null  float64\n",
      "dtypes: float64(4), int64(5), object(8)\n",
      "memory usage: 50.2+ MB\n"
     ]
    }
   ],
   "source": [
    "df_train.info()"
   ]
  },
  {
   "cell_type": "code",
   "execution_count": 6,
   "id": "bac15832",
   "metadata": {
    "execution": {
     "iopub.execute_input": "2023-04-27T16:10:26.211658Z",
     "iopub.status.busy": "2023-04-27T16:10:26.211168Z",
     "iopub.status.idle": "2023-04-27T16:10:26.248186Z",
     "shell.execute_reply": "2023-04-27T16:10:26.246785Z"
    },
    "papermill": {
     "duration": 0.053864,
     "end_time": "2023-04-27T16:10:26.250892",
     "exception": false,
     "start_time": "2023-04-27T16:10:26.197028",
     "status": "completed"
    },
    "tags": []
   },
   "outputs": [
    {
     "data": {
      "text/html": [
       "<div>\n",
       "<style scoped>\n",
       "    .dataframe tbody tr th:only-of-type {\n",
       "        vertical-align: middle;\n",
       "    }\n",
       "\n",
       "    .dataframe tbody tr th {\n",
       "        vertical-align: top;\n",
       "    }\n",
       "\n",
       "    .dataframe thead th {\n",
       "        text-align: right;\n",
       "    }\n",
       "</style>\n",
       "<table border=\"1\" class=\"dataframe\">\n",
       "  <thead>\n",
       "    <tr style=\"text-align: right;\">\n",
       "      <th></th>\n",
       "      <th>hotel_address</th>\n",
       "      <th>additional_number_of_scoring</th>\n",
       "      <th>review_date</th>\n",
       "      <th>average_score</th>\n",
       "      <th>hotel_name</th>\n",
       "      <th>reviewer_nationality</th>\n",
       "      <th>negative_review</th>\n",
       "      <th>review_total_negative_word_counts</th>\n",
       "      <th>total_number_of_reviews</th>\n",
       "      <th>positive_review</th>\n",
       "      <th>review_total_positive_word_counts</th>\n",
       "      <th>total_number_of_reviews_reviewer_has_given</th>\n",
       "      <th>reviewer_score</th>\n",
       "      <th>tags</th>\n",
       "      <th>days_since_review</th>\n",
       "      <th>lat</th>\n",
       "      <th>lng</th>\n",
       "    </tr>\n",
       "  </thead>\n",
       "  <tbody>\n",
       "    <tr>\n",
       "      <th>0</th>\n",
       "      <td>Stratton Street Mayfair Westminster Borough Lo...</td>\n",
       "      <td>581</td>\n",
       "      <td>2/19/2016</td>\n",
       "      <td>8.4</td>\n",
       "      <td>The May Fair Hotel</td>\n",
       "      <td>United Kingdom</td>\n",
       "      <td>Leaving</td>\n",
       "      <td>3</td>\n",
       "      <td>1994</td>\n",
       "      <td>Staff were amazing</td>\n",
       "      <td>4</td>\n",
       "      <td>7</td>\n",
       "      <td>10.0</td>\n",
       "      <td>[' Leisure trip ', ' Couple ', ' Studio Suite ...</td>\n",
       "      <td>531 day</td>\n",
       "      <td>51.507894</td>\n",
       "      <td>-0.143671</td>\n",
       "    </tr>\n",
       "  </tbody>\n",
       "</table>\n",
       "</div>"
      ],
      "text/plain": [
       "                                       hotel_address  \\\n",
       "0  Stratton Street Mayfair Westminster Borough Lo...   \n",
       "\n",
       "   additional_number_of_scoring review_date  average_score  \\\n",
       "0                           581   2/19/2016            8.4   \n",
       "\n",
       "           hotel_name reviewer_nationality negative_review  \\\n",
       "0  The May Fair Hotel      United Kingdom         Leaving    \n",
       "\n",
       "   review_total_negative_word_counts  total_number_of_reviews  \\\n",
       "0                                  3                     1994   \n",
       "\n",
       "       positive_review  review_total_positive_word_counts  \\\n",
       "0   Staff were amazing                                  4   \n",
       "\n",
       "   total_number_of_reviews_reviewer_has_given  reviewer_score  \\\n",
       "0                                           7            10.0   \n",
       "\n",
       "                                                tags days_since_review  \\\n",
       "0  [' Leisure trip ', ' Couple ', ' Studio Suite ...           531 day   \n",
       "\n",
       "         lat       lng  \n",
       "0  51.507894 -0.143671  "
      ]
     },
     "execution_count": 6,
     "metadata": {},
     "output_type": "execute_result"
    }
   ],
   "source": [
    "df_train.head(1)"
   ]
  },
  {
   "cell_type": "code",
   "execution_count": 7,
   "id": "10a34e06",
   "metadata": {
    "execution": {
     "iopub.execute_input": "2023-04-27T16:10:26.278592Z",
     "iopub.status.busy": "2023-04-27T16:10:26.277908Z",
     "iopub.status.idle": "2023-04-27T16:10:26.352681Z",
     "shell.execute_reply": "2023-04-27T16:10:26.350978Z"
    },
    "papermill": {
     "duration": 0.092094,
     "end_time": "2023-04-27T16:10:26.355662",
     "exception": false,
     "start_time": "2023-04-27T16:10:26.263568",
     "status": "completed"
    },
    "tags": []
   },
   "outputs": [
    {
     "name": "stdout",
     "output_type": "stream",
     "text": [
      "<class 'pandas.core.frame.DataFrame'>\n",
      "RangeIndex: 128935 entries, 0 to 128934\n",
      "Data columns (total 16 columns):\n",
      " #   Column                                      Non-Null Count   Dtype  \n",
      "---  ------                                      --------------   -----  \n",
      " 0   hotel_address                               128935 non-null  object \n",
      " 1   additional_number_of_scoring                128935 non-null  int64  \n",
      " 2   review_date                                 128935 non-null  object \n",
      " 3   average_score                               128935 non-null  float64\n",
      " 4   hotel_name                                  128935 non-null  object \n",
      " 5   reviewer_nationality                        128935 non-null  object \n",
      " 6   negative_review                             128935 non-null  object \n",
      " 7   review_total_negative_word_counts           128935 non-null  int64  \n",
      " 8   total_number_of_reviews                     128935 non-null  int64  \n",
      " 9   positive_review                             128935 non-null  object \n",
      " 10  review_total_positive_word_counts           128935 non-null  int64  \n",
      " 11  total_number_of_reviews_reviewer_has_given  128935 non-null  int64  \n",
      " 12  tags                                        128935 non-null  object \n",
      " 13  days_since_review                           128935 non-null  object \n",
      " 14  lat                                         128115 non-null  float64\n",
      " 15  lng                                         128115 non-null  float64\n",
      "dtypes: float64(3), int64(5), object(8)\n",
      "memory usage: 15.7+ MB\n"
     ]
    }
   ],
   "source": [
    "df_test.info()"
   ]
  },
  {
   "cell_type": "code",
   "execution_count": 8,
   "id": "0155f7ea",
   "metadata": {
    "execution": {
     "iopub.execute_input": "2023-04-27T16:10:26.383580Z",
     "iopub.status.busy": "2023-04-27T16:10:26.381923Z",
     "iopub.status.idle": "2023-04-27T16:10:26.403013Z",
     "shell.execute_reply": "2023-04-27T16:10:26.401547Z"
    },
    "papermill": {
     "duration": 0.037984,
     "end_time": "2023-04-27T16:10:26.405987",
     "exception": false,
     "start_time": "2023-04-27T16:10:26.368003",
     "status": "completed"
    },
    "tags": []
   },
   "outputs": [
    {
     "data": {
      "text/html": [
       "<div>\n",
       "<style scoped>\n",
       "    .dataframe tbody tr th:only-of-type {\n",
       "        vertical-align: middle;\n",
       "    }\n",
       "\n",
       "    .dataframe tbody tr th {\n",
       "        vertical-align: top;\n",
       "    }\n",
       "\n",
       "    .dataframe thead th {\n",
       "        text-align: right;\n",
       "    }\n",
       "</style>\n",
       "<table border=\"1\" class=\"dataframe\">\n",
       "  <thead>\n",
       "    <tr style=\"text-align: right;\">\n",
       "      <th></th>\n",
       "      <th>hotel_address</th>\n",
       "      <th>additional_number_of_scoring</th>\n",
       "      <th>review_date</th>\n",
       "      <th>average_score</th>\n",
       "      <th>hotel_name</th>\n",
       "      <th>reviewer_nationality</th>\n",
       "      <th>negative_review</th>\n",
       "      <th>review_total_negative_word_counts</th>\n",
       "      <th>total_number_of_reviews</th>\n",
       "      <th>positive_review</th>\n",
       "      <th>review_total_positive_word_counts</th>\n",
       "      <th>total_number_of_reviews_reviewer_has_given</th>\n",
       "      <th>tags</th>\n",
       "      <th>days_since_review</th>\n",
       "      <th>lat</th>\n",
       "      <th>lng</th>\n",
       "    </tr>\n",
       "  </thead>\n",
       "  <tbody>\n",
       "    <tr>\n",
       "      <th>0</th>\n",
       "      <td>Via Senigallia 6 20161 Milan Italy</td>\n",
       "      <td>904</td>\n",
       "      <td>7/21/2017</td>\n",
       "      <td>8.1</td>\n",
       "      <td>Hotel Da Vinci</td>\n",
       "      <td>United Kingdom</td>\n",
       "      <td>Would have appreciated a shop in the hotel th...</td>\n",
       "      <td>52</td>\n",
       "      <td>16670</td>\n",
       "      <td>Hotel was great clean friendly staff free bre...</td>\n",
       "      <td>62</td>\n",
       "      <td>1</td>\n",
       "      <td>[' Leisure trip ', ' Couple ', ' Double Room '...</td>\n",
       "      <td>13 days</td>\n",
       "      <td>45.533137</td>\n",
       "      <td>9.171102</td>\n",
       "    </tr>\n",
       "  </tbody>\n",
       "</table>\n",
       "</div>"
      ],
      "text/plain": [
       "                        hotel_address  additional_number_of_scoring  \\\n",
       "0  Via Senigallia 6 20161 Milan Italy                           904   \n",
       "\n",
       "  review_date  average_score      hotel_name reviewer_nationality  \\\n",
       "0   7/21/2017            8.1  Hotel Da Vinci      United Kingdom    \n",
       "\n",
       "                                     negative_review  \\\n",
       "0   Would have appreciated a shop in the hotel th...   \n",
       "\n",
       "   review_total_negative_word_counts  total_number_of_reviews  \\\n",
       "0                                 52                    16670   \n",
       "\n",
       "                                     positive_review  \\\n",
       "0   Hotel was great clean friendly staff free bre...   \n",
       "\n",
       "   review_total_positive_word_counts  \\\n",
       "0                                 62   \n",
       "\n",
       "   total_number_of_reviews_reviewer_has_given  \\\n",
       "0                                           1   \n",
       "\n",
       "                                                tags days_since_review  \\\n",
       "0  [' Leisure trip ', ' Couple ', ' Double Room '...           13 days   \n",
       "\n",
       "         lat       lng  \n",
       "0  45.533137  9.171102  "
      ]
     },
     "execution_count": 8,
     "metadata": {},
     "output_type": "execute_result"
    }
   ],
   "source": [
    "df_test.head(1)"
   ]
  },
  {
   "cell_type": "code",
   "execution_count": 9,
   "id": "edad69a5",
   "metadata": {
    "execution": {
     "iopub.execute_input": "2023-04-27T16:10:26.434606Z",
     "iopub.status.busy": "2023-04-27T16:10:26.434200Z",
     "iopub.status.idle": "2023-04-27T16:10:26.445383Z",
     "shell.execute_reply": "2023-04-27T16:10:26.443814Z"
    },
    "papermill": {
     "duration": 0.028838,
     "end_time": "2023-04-27T16:10:26.448174",
     "exception": false,
     "start_time": "2023-04-27T16:10:26.419336",
     "status": "completed"
    },
    "tags": []
   },
   "outputs": [
    {
     "data": {
      "text/html": [
       "<div>\n",
       "<style scoped>\n",
       "    .dataframe tbody tr th:only-of-type {\n",
       "        vertical-align: middle;\n",
       "    }\n",
       "\n",
       "    .dataframe tbody tr th {\n",
       "        vertical-align: top;\n",
       "    }\n",
       "\n",
       "    .dataframe thead th {\n",
       "        text-align: right;\n",
       "    }\n",
       "</style>\n",
       "<table border=\"1\" class=\"dataframe\">\n",
       "  <thead>\n",
       "    <tr style=\"text-align: right;\">\n",
       "      <th></th>\n",
       "      <th>reviewer_score</th>\n",
       "      <th>id</th>\n",
       "    </tr>\n",
       "  </thead>\n",
       "  <tbody>\n",
       "    <tr>\n",
       "      <th>0</th>\n",
       "      <td>1</td>\n",
       "      <td>488440</td>\n",
       "    </tr>\n",
       "    <tr>\n",
       "      <th>1</th>\n",
       "      <td>10</td>\n",
       "      <td>274649</td>\n",
       "    </tr>\n",
       "  </tbody>\n",
       "</table>\n",
       "</div>"
      ],
      "text/plain": [
       "   reviewer_score      id\n",
       "0               1  488440\n",
       "1              10  274649"
      ]
     },
     "execution_count": 9,
     "metadata": {},
     "output_type": "execute_result"
    }
   ],
   "source": [
    "sample_submission.head(2)"
   ]
  },
  {
   "cell_type": "code",
   "execution_count": 10,
   "id": "6777223b",
   "metadata": {
    "execution": {
     "iopub.execute_input": "2023-04-27T16:10:26.476629Z",
     "iopub.status.busy": "2023-04-27T16:10:26.476207Z",
     "iopub.status.idle": "2023-04-27T16:10:26.489308Z",
     "shell.execute_reply": "2023-04-27T16:10:26.487621Z"
    },
    "papermill": {
     "duration": 0.031241,
     "end_time": "2023-04-27T16:10:26.492543",
     "exception": false,
     "start_time": "2023-04-27T16:10:26.461302",
     "status": "completed"
    },
    "tags": []
   },
   "outputs": [
    {
     "name": "stdout",
     "output_type": "stream",
     "text": [
      "<class 'pandas.core.frame.DataFrame'>\n",
      "RangeIndex: 128935 entries, 0 to 128934\n",
      "Data columns (total 2 columns):\n",
      " #   Column          Non-Null Count   Dtype\n",
      "---  ------          --------------   -----\n",
      " 0   reviewer_score  128935 non-null  int64\n",
      " 1   id              128935 non-null  int64\n",
      "dtypes: int64(2)\n",
      "memory usage: 2.0 MB\n"
     ]
    }
   ],
   "source": [
    "sample_submission.info()"
   ]
  },
  {
   "cell_type": "code",
   "execution_count": 11,
   "id": "6df1841f",
   "metadata": {
    "execution": {
     "iopub.execute_input": "2023-04-27T16:10:26.522493Z",
     "iopub.status.busy": "2023-04-27T16:10:26.522024Z",
     "iopub.status.idle": "2023-04-27T16:10:27.056469Z",
     "shell.execute_reply": "2023-04-27T16:10:27.054965Z"
    },
    "papermill": {
     "duration": 0.552891,
     "end_time": "2023-04-27T16:10:27.059463",
     "exception": false,
     "start_time": "2023-04-27T16:10:26.506572",
     "status": "completed"
    },
    "tags": []
   },
   "outputs": [],
   "source": [
    "df_train['sample'] = 1 # помечаем где у нас трейн\n",
    "df_test['sample'] = 0 # помечаем где у нас тест\n",
    "df_test['reviewer_score'] = 0 # в тесте у нас нет значения reviewer_score, мы его должны предсказать, по этому пока просто заполняем нулями\n",
    "\n",
    "hotels = df_test.append(df_train, sort=False).reset_index(drop=True) # объединяем"
   ]
  },
  {
   "cell_type": "markdown",
   "id": "83051735",
   "metadata": {
    "papermill": {
     "duration": 0.01252,
     "end_time": "2023-04-27T16:10:27.085041",
     "exception": false,
     "start_time": "2023-04-27T16:10:27.072521",
     "status": "completed"
    },
    "tags": []
   },
   "source": [
    "Сколько уникальных названий отелей представлено в наборе данных?"
   ]
  },
  {
   "cell_type": "code",
   "execution_count": 12,
   "id": "bc8f883e",
   "metadata": {
    "execution": {
     "iopub.execute_input": "2023-04-27T16:10:27.113458Z",
     "iopub.status.busy": "2023-04-27T16:10:27.112266Z",
     "iopub.status.idle": "2023-04-27T16:10:27.179524Z",
     "shell.execute_reply": "2023-04-27T16:10:27.178115Z"
    },
    "papermill": {
     "duration": 0.084319,
     "end_time": "2023-04-27T16:10:27.182124",
     "exception": false,
     "start_time": "2023-04-27T16:10:27.097805",
     "status": "completed"
    },
    "tags": []
   },
   "outputs": [
    {
     "data": {
      "text/plain": [
       "1492"
      ]
     },
     "execution_count": 12,
     "metadata": {},
     "output_type": "execute_result"
    }
   ],
   "source": [
    "len(hotels['hotel_name'].unique())"
   ]
  },
  {
   "cell_type": "markdown",
   "id": "df45b05d",
   "metadata": {
    "papermill": {
     "duration": 0.012377,
     "end_time": "2023-04-27T16:10:27.207214",
     "exception": false,
     "start_time": "2023-04-27T16:10:27.194837",
     "status": "completed"
    },
    "tags": []
   },
   "source": [
    "Меняем тип данных признака review_date на datetime64. Самый свежий отзыв 2017-08-03. Самый первый отзыв 2015-08-04"
   ]
  },
  {
   "cell_type": "code",
   "execution_count": 13,
   "id": "6dc627c5",
   "metadata": {
    "execution": {
     "iopub.execute_input": "2023-04-27T16:10:27.235337Z",
     "iopub.status.busy": "2023-04-27T16:10:27.234833Z",
     "iopub.status.idle": "2023-04-27T16:10:27.588288Z",
     "shell.execute_reply": "2023-04-27T16:10:27.586462Z"
    },
    "papermill": {
     "duration": 0.370943,
     "end_time": "2023-04-27T16:10:27.590952",
     "exception": false,
     "start_time": "2023-04-27T16:10:27.220009",
     "status": "completed"
    },
    "tags": []
   },
   "outputs": [
    {
     "name": "stdout",
     "output_type": "stream",
     "text": [
      "208558   2015-08-04\n",
      "Name: review_date, dtype: datetime64[ns]\n",
      "45365   2017-08-03\n",
      "Name: review_date, dtype: datetime64[ns]\n"
     ]
    }
   ],
   "source": [
    "hotels['review_date'] = pd.to_datetime(hotels['review_date'])\n",
    "print(hotels['review_date'].sort_values().head(1))\n",
    "print(hotels['review_date'].sort_values().tail(1))"
   ]
  },
  {
   "cell_type": "markdown",
   "id": "858424d1",
   "metadata": {
    "papermill": {
     "duration": 0.012559,
     "end_time": "2023-04-27T16:10:27.616495",
     "exception": false,
     "start_time": "2023-04-27T16:10:27.603936",
     "status": "completed"
    },
    "tags": []
   },
   "source": [
    "Кол-во уникальных тегов 2368"
   ]
  },
  {
   "cell_type": "code",
   "execution_count": 14,
   "id": "008f08df",
   "metadata": {
    "execution": {
     "iopub.execute_input": "2023-04-27T16:10:27.644490Z",
     "iopub.status.busy": "2023-04-27T16:10:27.643535Z",
     "iopub.status.idle": "2023-04-27T16:10:28.755407Z",
     "shell.execute_reply": "2023-04-27T16:10:28.754035Z"
    },
    "papermill": {
     "duration": 1.128842,
     "end_time": "2023-04-27T16:10:28.758105",
     "exception": false,
     "start_time": "2023-04-27T16:10:27.629263",
     "status": "completed"
    },
    "tags": []
   },
   "outputs": [
    {
     "name": "stdout",
     "output_type": "stream",
     "text": [
      "{2428}\n"
     ]
    }
   ],
   "source": [
    "tage_cnt = {}\n",
    "for i in hotels.tags:\n",
    "    for j in i[2:-2].strip().split(' \\', \\' '):\n",
    "        if j in tage_cnt:\n",
    "            tage_cnt[j] += 1\n",
    "        else:\n",
    "            tage_cnt[j] = 1\n",
    "print({len(tage_cnt)})"
   ]
  },
  {
   "cell_type": "markdown",
   "id": "1491b055",
   "metadata": {
    "papermill": {
     "duration": 0.012661,
     "end_time": "2023-04-27T16:10:28.783898",
     "exception": false,
     "start_time": "2023-04-27T16:10:28.771237",
     "status": "completed"
    },
    "tags": []
   },
   "source": [
    "Какой тег представлен в наибольшем числе отзывов?"
   ]
  },
  {
   "cell_type": "code",
   "execution_count": 15,
   "id": "0c56622b",
   "metadata": {
    "execution": {
     "iopub.execute_input": "2023-04-27T16:10:28.813191Z",
     "iopub.status.busy": "2023-04-27T16:10:28.812652Z",
     "iopub.status.idle": "2023-04-27T16:10:30.736302Z",
     "shell.execute_reply": "2023-04-27T16:10:30.734573Z"
    },
    "papermill": {
     "duration": 1.942174,
     "end_time": "2023-04-27T16:10:30.739663",
     "exception": false,
     "start_time": "2023-04-27T16:10:28.797489",
     "status": "completed"
    },
    "tags": []
   },
   "outputs": [
    {
     "name": "stdout",
     "output_type": "stream",
     "text": [
      "Количество уникальных тегов 2428\n",
      "[('Leisure trip', 417778), ('Submitted from a mobile device', 307640), ('Couple', 252294), ('Stayed 1 night', 193645), ('Stayed 2 nights', 133937), ('Solo traveler', 108545), ('Stayed 3 nights', 95821), ('Business trip', 82939), ('Group', 65392), ('Family with young children', 61015), ('Stayed 4 nights', 47817), ('Double Room', 35207), ('Standard Double Room', 32248), ('Superior Double Room', 31393), ('Family with older children', 26349)]\n"
     ]
    }
   ],
   "source": [
    "# Определяем ТОП тегов\n",
    "cnt = Counter() \n",
    "for i, row in hotels['tags'].items():\n",
    "    tmp = row.replace(\"[' \", \"\")\n",
    "    tmp = tmp.replace(\" ']\", '')\n",
    "    tmp = tmp.split(\" ', ' \")\n",
    "    cnt.update(tmp)\n",
    "    \n",
    "print(f'Количество уникальных тегов {len(list(cnt))}')\n",
    "print(cnt.most_common(15))\n",
    "most_tag = cnt.most_common(15) "
   ]
  },
  {
   "cell_type": "markdown",
   "id": "621893c6",
   "metadata": {
    "papermill": {
     "duration": 0.013171,
     "end_time": "2023-04-27T16:10:30.767007",
     "exception": false,
     "start_time": "2023-04-27T16:10:30.753836",
     "status": "completed"
    },
    "tags": []
   },
   "source": [
    "Из тегов выясните, на сколько ночей чаще всего останавливаются путешественники в отелях."
   ]
  },
  {
   "cell_type": "code",
   "execution_count": 16,
   "id": "972151c1",
   "metadata": {
    "execution": {
     "iopub.execute_input": "2023-04-27T16:10:30.797661Z",
     "iopub.status.busy": "2023-04-27T16:10:30.797205Z",
     "iopub.status.idle": "2023-04-27T16:10:32.264516Z",
     "shell.execute_reply": "2023-04-27T16:10:32.262998Z"
    },
    "papermill": {
     "duration": 1.485946,
     "end_time": "2023-04-27T16:10:32.267291",
     "exception": false,
     "start_time": "2023-04-27T16:10:30.781345",
     "status": "completed"
    },
    "tags": []
   },
   "outputs": [
    {
     "data": {
      "text/plain": [
       "Stayed 1     193645\n",
       "Stayed 2     133937\n",
       "Stayed 3      95821\n",
       "Stayed 4      47817\n",
       "Stayed 5      20845\n",
       "Stayed 6       9776\n",
       "Stayed 7       7399\n",
       "Stayed 8       2502\n",
       "Stayed 9       1293\n",
       "Stayed 10       889\n",
       "Stayed 11       418\n",
       "Stayed 12       316\n",
       "Stayed 14       247\n",
       "Stayed 13       246\n",
       "0               192\n",
       "Stayed 15       117\n",
       "Stayed 16        57\n",
       "Stayed 17        42\n",
       "Stayed 18        33\n",
       "Stayed 19        29\n",
       "Stayed 21        23\n",
       "Stayed 20        19\n",
       "Stayed 27        11\n",
       "Stayed 30        11\n",
       "Stayed 23        10\n",
       "Stayed 22        10\n",
       "Stayed 25         7\n",
       "Stayed 26         7\n",
       "Stayed 28         7\n",
       "Stayed 24         6\n",
       "Stayed 29         5\n",
       "Stayed 31         1\n",
       "Name: count_nights, dtype: int64"
      ]
     },
     "execution_count": 16,
     "metadata": {},
     "output_type": "execute_result"
    }
   ],
   "source": [
    "regex = 'Stayed\\s\\d+'\n",
    "hotels['count_nights'] = hotels['tags'].str.findall(regex).str.get(0)\n",
    "#При отсутствии тега nights указываем 0\n",
    "hotels['count_nights'] = hotels['count_nights'].fillna(0)\n",
    "hotels['count_nights'].value_counts()"
   ]
  },
  {
   "cell_type": "markdown",
   "id": "73445b87",
   "metadata": {
    "papermill": {
     "duration": 0.013245,
     "end_time": "2023-04-27T16:10:32.294315",
     "exception": false,
     "start_time": "2023-04-27T16:10:32.281070",
     "status": "completed"
    },
    "tags": []
   },
   "source": [
    "Заполним пропуски в признаках lat и lng медианным значением"
   ]
  },
  {
   "cell_type": "code",
   "execution_count": 17,
   "id": "70614a62",
   "metadata": {
    "execution": {
     "iopub.execute_input": "2023-04-27T16:10:32.323775Z",
     "iopub.status.busy": "2023-04-27T16:10:32.323330Z",
     "iopub.status.idle": "2023-04-27T16:10:32.501368Z",
     "shell.execute_reply": "2023-04-27T16:10:32.499936Z"
    },
    "papermill": {
     "duration": 0.196108,
     "end_time": "2023-04-27T16:10:32.504144",
     "exception": false,
     "start_time": "2023-04-27T16:10:32.308036",
     "status": "completed"
    },
    "tags": []
   },
   "outputs": [],
   "source": [
    "hotels[['lat', 'lng']] = hotels[['lat', 'lng']]. fillna(hotels[['lat', 'lng']].mean())"
   ]
  },
  {
   "cell_type": "code",
   "execution_count": 18,
   "id": "5e551a9a",
   "metadata": {
    "execution": {
     "iopub.execute_input": "2023-04-27T16:10:32.533921Z",
     "iopub.status.busy": "2023-04-27T16:10:32.533068Z",
     "iopub.status.idle": "2023-04-27T16:10:34.321794Z",
     "shell.execute_reply": "2023-04-27T16:10:34.320596Z"
    },
    "papermill": {
     "duration": 1.806504,
     "end_time": "2023-04-27T16:10:34.324356",
     "exception": false,
     "start_time": "2023-04-27T16:10:32.517852",
     "status": "completed"
    },
    "tags": []
   },
   "outputs": [
    {
     "data": {
      "text/html": [
       "<div>\n",
       "<style scoped>\n",
       "    .dataframe tbody tr th:only-of-type {\n",
       "        vertical-align: middle;\n",
       "    }\n",
       "\n",
       "    .dataframe tbody tr th {\n",
       "        vertical-align: top;\n",
       "    }\n",
       "\n",
       "    .dataframe thead th {\n",
       "        text-align: right;\n",
       "    }\n",
       "</style>\n",
       "<table border=\"1\" class=\"dataframe\">\n",
       "  <thead>\n",
       "    <tr style=\"text-align: right;\">\n",
       "      <th></th>\n",
       "      <th>negative_review</th>\n",
       "      <th>count</th>\n",
       "    </tr>\n",
       "  </thead>\n",
       "  <tbody>\n",
       "    <tr>\n",
       "      <th>129127</th>\n",
       "      <td>nonegative</td>\n",
       "      <td>127890</td>\n",
       "    </tr>\n",
       "    <tr>\n",
       "      <th>135376</th>\n",
       "      <td>nothing</td>\n",
       "      <td>21272</td>\n",
       "    </tr>\n",
       "    <tr>\n",
       "      <th>117249</th>\n",
       "      <td>na</td>\n",
       "      <td>2087</td>\n",
       "    </tr>\n",
       "    <tr>\n",
       "      <th>129079</th>\n",
       "      <td>none</td>\n",
       "      <td>1501</td>\n",
       "    </tr>\n",
       "    <tr>\n",
       "      <th>0</th>\n",
       "      <td></td>\n",
       "      <td>849</td>\n",
       "    </tr>\n",
       "    <tr>\n",
       "      <th>138050</th>\n",
       "      <td>nothingreally</td>\n",
       "      <td>657</td>\n",
       "    </tr>\n",
       "    <tr>\n",
       "      <th>194646</th>\n",
       "      <td>smallroom</td>\n",
       "      <td>570</td>\n",
       "    </tr>\n",
       "    <tr>\n",
       "      <th>28586</th>\n",
       "      <td>breakfast</td>\n",
       "      <td>550</td>\n",
       "    </tr>\n",
       "    <tr>\n",
       "      <th>9573</th>\n",
       "      <td>allgood</td>\n",
       "      <td>545</td>\n",
       "    </tr>\n",
       "    <tr>\n",
       "      <th>121774</th>\n",
       "      <td>nocomplaints</td>\n",
       "      <td>523</td>\n",
       "    </tr>\n",
       "    <tr>\n",
       "      <th>106830</th>\n",
       "      <td>location</td>\n",
       "      <td>502</td>\n",
       "    </tr>\n",
       "    <tr>\n",
       "      <th>135697</th>\n",
       "      <td>nothingatall</td>\n",
       "      <td>471</td>\n",
       "    </tr>\n",
       "    <tr>\n",
       "      <th>58780</th>\n",
       "      <td>everything</td>\n",
       "      <td>468</td>\n",
       "    </tr>\n",
       "    <tr>\n",
       "      <th>139237</th>\n",
       "      <td>nothingtodislike</td>\n",
       "      <td>373</td>\n",
       "    </tr>\n",
       "    <tr>\n",
       "      <th>160252</th>\n",
       "      <td>price</td>\n",
       "      <td>348</td>\n",
       "    </tr>\n",
       "    <tr>\n",
       "      <th>119010</th>\n",
       "      <td>nil</td>\n",
       "      <td>332</td>\n",
       "    </tr>\n",
       "    <tr>\n",
       "      <th>195504</th>\n",
       "      <td>smallrooms</td>\n",
       "      <td>307</td>\n",
       "    </tr>\n",
       "    <tr>\n",
       "      <th>59937</th>\n",
       "      <td>everythingwasperfect</td>\n",
       "      <td>285</td>\n",
       "    </tr>\n",
       "    <tr>\n",
       "      <th>39820</th>\n",
       "      <td>cantthinkofanything</td>\n",
       "      <td>270</td>\n",
       "    </tr>\n",
       "    <tr>\n",
       "      <th>103922</th>\n",
       "      <td>leaving</td>\n",
       "      <td>244</td>\n",
       "    </tr>\n",
       "    <tr>\n",
       "      <th>4105</th>\n",
       "      <td>absolutelynothing</td>\n",
       "      <td>242</td>\n",
       "    </tr>\n",
       "    <tr>\n",
       "      <th>59728</th>\n",
       "      <td>everythingwasgreat</td>\n",
       "      <td>229</td>\n",
       "    </tr>\n",
       "    <tr>\n",
       "      <th>60695</th>\n",
       "      <td>expensive</td>\n",
       "      <td>206</td>\n",
       "    </tr>\n",
       "    <tr>\n",
       "      <th>139135</th>\n",
       "      <td>nothingtocomplainabout</td>\n",
       "      <td>205</td>\n",
       "    </tr>\n",
       "    <tr>\n",
       "      <th>176065</th>\n",
       "      <td>roomsize</td>\n",
       "      <td>200</td>\n",
       "    </tr>\n",
       "  </tbody>\n",
       "</table>\n",
       "</div>"
      ],
      "text/plain": [
       "               negative_review   count\n",
       "129127              nonegative  127890\n",
       "135376                 nothing   21272\n",
       "117249                      na    2087\n",
       "129079                    none    1501\n",
       "0                                  849\n",
       "138050           nothingreally     657\n",
       "194646               smallroom     570\n",
       "28586                breakfast     550\n",
       "9573                   allgood     545\n",
       "121774            nocomplaints     523\n",
       "106830                location     502\n",
       "135697            nothingatall     471\n",
       "58780               everything     468\n",
       "139237        nothingtodislike     373\n",
       "160252                   price     348\n",
       "119010                     nil     332\n",
       "195504              smallrooms     307\n",
       "59937     everythingwasperfect     285\n",
       "39820      cantthinkofanything     270\n",
       "103922                 leaving     244\n",
       "4105         absolutelynothing     242\n",
       "59728       everythingwasgreat     229\n",
       "60695                expensive     206\n",
       "139135  nothingtocomplainabout     205\n",
       "176065                roomsize     200"
      ]
     },
     "execution_count": 18,
     "metadata": {},
     "output_type": "execute_result"
    }
   ],
   "source": [
    "hotels['negative_review'] = hotels['negative_review'].apply(lambda x: x.replace(' ', '').lower())\n",
    "negative = hotels.groupby(by='negative_review', as_index=False).agg({'hotel_address': 'count'}).rename(columns={'hotel_address': 'count'}).sort_values(by='count', ascending=False)\n",
    "negative[:25]"
   ]
  },
  {
   "cell_type": "markdown",
   "id": "be76060c",
   "metadata": {
    "papermill": {
     "duration": 0.013147,
     "end_time": "2023-04-27T16:10:34.351161",
     "exception": false,
     "start_time": "2023-04-27T16:10:34.338014",
     "status": "completed"
    },
    "tags": []
   },
   "source": [
    "Видно, что в негативные отзывы попали и позитивные. Используем эту информацию и создадим новый признак - negative, со знчением 0 и 1 - негативный или позитивный отзыв"
   ]
  },
  {
   "cell_type": "code",
   "execution_count": 19,
   "id": "fcb945fa",
   "metadata": {
    "execution": {
     "iopub.execute_input": "2023-04-27T16:10:34.381657Z",
     "iopub.status.busy": "2023-04-27T16:10:34.381266Z",
     "iopub.status.idle": "2023-04-27T16:10:34.710425Z",
     "shell.execute_reply": "2023-04-27T16:10:34.709248Z"
    },
    "papermill": {
     "duration": 0.348507,
     "end_time": "2023-04-27T16:10:34.713658",
     "exception": false,
     "start_time": "2023-04-27T16:10:34.365151",
     "status": "completed"
    },
    "tags": []
   },
   "outputs": [],
   "source": [
    "negative_rev = ['nonegative', 'nothing', 'na', 'none', '','nothingreally', 'allgood', 'nocomplaints', 'nothingatall', \n",
    "                'nothingtodislike', 'nil', 'everythingwasperfect', 'cantthinkofanything', 'absolutelynothing', \n",
    "                'everythingwasgreat', 'nothingtocomplainabout', 'everythingwasgood', 'no']\n",
    "hotels['negative'] = hotels['negative_review'].apply(lambda x: 1 if x in negative_rev else 0)"
   ]
  },
  {
   "cell_type": "markdown",
   "id": "3afb40a4",
   "metadata": {
    "papermill": {
     "duration": 0.013639,
     "end_time": "2023-04-27T16:10:34.741432",
     "exception": false,
     "start_time": "2023-04-27T16:10:34.727793",
     "status": "completed"
    },
    "tags": []
   },
   "source": [
    "Аналогично с положительными отзывами проделаем"
   ]
  },
  {
   "cell_type": "code",
   "execution_count": 20,
   "id": "0b83ac83",
   "metadata": {
    "execution": {
     "iopub.execute_input": "2023-04-27T16:10:34.771527Z",
     "iopub.status.busy": "2023-04-27T16:10:34.771094Z",
     "iopub.status.idle": "2023-04-27T16:10:37.014483Z",
     "shell.execute_reply": "2023-04-27T16:10:37.012981Z"
    },
    "papermill": {
     "duration": 2.262434,
     "end_time": "2023-04-27T16:10:37.017815",
     "exception": false,
     "start_time": "2023-04-27T16:10:34.755381",
     "status": "completed"
    },
    "tags": []
   },
   "outputs": [
    {
     "data": {
      "text/html": [
       "<div>\n",
       "<style scoped>\n",
       "    .dataframe tbody tr th:only-of-type {\n",
       "        vertical-align: middle;\n",
       "    }\n",
       "\n",
       "    .dataframe tbody tr th {\n",
       "        vertical-align: top;\n",
       "    }\n",
       "\n",
       "    .dataframe thead th {\n",
       "        text-align: right;\n",
       "    }\n",
       "</style>\n",
       "<table border=\"1\" class=\"dataframe\">\n",
       "  <thead>\n",
       "    <tr style=\"text-align: right;\">\n",
       "      <th></th>\n",
       "      <th>positive_review</th>\n",
       "      <th>count</th>\n",
       "    </tr>\n",
       "  </thead>\n",
       "  <tbody>\n",
       "    <tr>\n",
       "      <th>216229</th>\n",
       "      <td>nopositive</td>\n",
       "      <td>35946</td>\n",
       "    </tr>\n",
       "    <tr>\n",
       "      <th>164907</th>\n",
       "      <td>location</td>\n",
       "      <td>11947</td>\n",
       "    </tr>\n",
       "    <tr>\n",
       "      <th>60366</th>\n",
       "      <td>everything</td>\n",
       "      <td>3550</td>\n",
       "    </tr>\n",
       "    <tr>\n",
       "      <th>216533</th>\n",
       "      <td>nothing</td>\n",
       "      <td>1758</td>\n",
       "    </tr>\n",
       "    <tr>\n",
       "      <th>116465</th>\n",
       "      <td>greatlocation</td>\n",
       "      <td>1688</td>\n",
       "    </tr>\n",
       "    <tr>\n",
       "      <th>304215</th>\n",
       "      <td>thelocation</td>\n",
       "      <td>1607</td>\n",
       "    </tr>\n",
       "    <tr>\n",
       "      <th>102042</th>\n",
       "      <td>goodlocation</td>\n",
       "      <td>1497</td>\n",
       "    </tr>\n",
       "    <tr>\n",
       "      <th>27167</th>\n",
       "      <td>breakfast</td>\n",
       "      <td>801</td>\n",
       "    </tr>\n",
       "    <tr>\n",
       "      <th>93691</th>\n",
       "      <td>friendlystaff</td>\n",
       "      <td>735</td>\n",
       "    </tr>\n",
       "    <tr>\n",
       "      <th>71945</th>\n",
       "      <td>excellentlocation</td>\n",
       "      <td>639</td>\n",
       "    </tr>\n",
       "    <tr>\n",
       "      <th>251828</th>\n",
       "      <td>staff</td>\n",
       "      <td>553</td>\n",
       "    </tr>\n",
       "    <tr>\n",
       "      <th>167128</th>\n",
       "      <td>locationandstaff</td>\n",
       "      <td>454</td>\n",
       "    </tr>\n",
       "    <tr>\n",
       "      <th>184093</th>\n",
       "      <td>locationstaff</td>\n",
       "      <td>432</td>\n",
       "    </tr>\n",
       "    <tr>\n",
       "      <th>179702</th>\n",
       "      <td>locationlocationlocation</td>\n",
       "      <td>345</td>\n",
       "    </tr>\n",
       "    <tr>\n",
       "      <th>66542</th>\n",
       "      <td>everythingwasperfect</td>\n",
       "      <td>342</td>\n",
       "    </tr>\n",
       "    <tr>\n",
       "      <th>189441</th>\n",
       "      <td>locationwasgreat</td>\n",
       "      <td>328</td>\n",
       "    </tr>\n",
       "    <tr>\n",
       "      <th>99514</th>\n",
       "      <td>goodbreakfast</td>\n",
       "      <td>316</td>\n",
       "    </tr>\n",
       "    <tr>\n",
       "      <th>188694</th>\n",
       "      <td>locationwasgood</td>\n",
       "      <td>313</td>\n",
       "    </tr>\n",
       "    <tr>\n",
       "      <th>48911</th>\n",
       "      <td>comfybed</td>\n",
       "      <td>303</td>\n",
       "    </tr>\n",
       "    <tr>\n",
       "      <th>222572</th>\n",
       "      <td>perfectlocation</td>\n",
       "      <td>288</td>\n",
       "    </tr>\n",
       "    <tr>\n",
       "      <th>337169</th>\n",
       "      <td>thestaff</td>\n",
       "      <td>281</td>\n",
       "    </tr>\n",
       "    <tr>\n",
       "      <th>176415</th>\n",
       "      <td>locationisgreat</td>\n",
       "      <td>280</td>\n",
       "    </tr>\n",
       "    <tr>\n",
       "      <th>175818</th>\n",
       "      <td>locationisgood</td>\n",
       "      <td>256</td>\n",
       "    </tr>\n",
       "    <tr>\n",
       "      <th>4119</th>\n",
       "      <td>all</td>\n",
       "      <td>250</td>\n",
       "    </tr>\n",
       "    <tr>\n",
       "      <th>37252</th>\n",
       "      <td>clean</td>\n",
       "      <td>237</td>\n",
       "    </tr>\n",
       "  </tbody>\n",
       "</table>\n",
       "</div>"
      ],
      "text/plain": [
       "                 positive_review  count\n",
       "216229                nopositive  35946\n",
       "164907                  location  11947\n",
       "60366                 everything   3550\n",
       "216533                   nothing   1758\n",
       "116465             greatlocation   1688\n",
       "304215               thelocation   1607\n",
       "102042              goodlocation   1497\n",
       "27167                  breakfast    801\n",
       "93691              friendlystaff    735\n",
       "71945          excellentlocation    639\n",
       "251828                     staff    553\n",
       "167128          locationandstaff    454\n",
       "184093             locationstaff    432\n",
       "179702  locationlocationlocation    345\n",
       "66542       everythingwasperfect    342\n",
       "189441          locationwasgreat    328\n",
       "99514              goodbreakfast    316\n",
       "188694           locationwasgood    313\n",
       "48911                   comfybed    303\n",
       "222572           perfectlocation    288\n",
       "337169                  thestaff    281\n",
       "176415           locationisgreat    280\n",
       "175818            locationisgood    256\n",
       "4119                         all    250\n",
       "37252                      clean    237"
      ]
     },
     "execution_count": 20,
     "metadata": {},
     "output_type": "execute_result"
    }
   ],
   "source": [
    "hotels['positive_review'] = hotels['positive_review'].apply(lambda x: x.replace(' ', '').lower())\n",
    "positive = hotels.groupby(by='positive_review', as_index=False).agg({'hotel_address': 'count'}).rename(columns={'hotel_address': 'count'}).sort_values(by='count', ascending=False)\n",
    "positive[:25]"
   ]
  },
  {
   "cell_type": "code",
   "execution_count": 21,
   "id": "ab7538da",
   "metadata": {
    "execution": {
     "iopub.execute_input": "2023-04-27T16:10:37.048814Z",
     "iopub.status.busy": "2023-04-27T16:10:37.048384Z",
     "iopub.status.idle": "2023-04-27T16:10:37.288132Z",
     "shell.execute_reply": "2023-04-27T16:10:37.286766Z"
    },
    "papermill": {
     "duration": 0.259271,
     "end_time": "2023-04-27T16:10:37.291643",
     "exception": false,
     "start_time": "2023-04-27T16:10:37.032372",
     "status": "completed"
    },
    "tags": []
   },
   "outputs": [],
   "source": [
    "positive_rev = ['nopositive', 'nothing']\n",
    "hotels['positive'] = hotels['positive_review'].apply(lambda x: 0 if x in positive_rev else 1)"
   ]
  },
  {
   "cell_type": "markdown",
   "id": "43f1dc07",
   "metadata": {
    "papermill": {
     "duration": 0.014106,
     "end_time": "2023-04-27T16:10:37.320519",
     "exception": false,
     "start_time": "2023-04-27T16:10:37.306413",
     "status": "completed"
    },
    "tags": []
   },
   "source": [
    "Разберем дату"
   ]
  },
  {
   "cell_type": "code",
   "execution_count": 22,
   "id": "23484d9c",
   "metadata": {
    "execution": {
     "iopub.execute_input": "2023-04-27T16:10:37.352394Z",
     "iopub.status.busy": "2023-04-27T16:10:37.351666Z",
     "iopub.status.idle": "2023-04-27T16:10:37.514647Z",
     "shell.execute_reply": "2023-04-27T16:10:37.513210Z"
    },
    "papermill": {
     "duration": 0.183034,
     "end_time": "2023-04-27T16:10:37.517836",
     "exception": false,
     "start_time": "2023-04-27T16:10:37.334802",
     "status": "completed"
    },
    "tags": []
   },
   "outputs": [],
   "source": [
    "hotels['review_date'] = pd.to_datetime(hotels['review_date'])\n",
    "hotels['review_year'] = hotels['review_date'].dt.year\n",
    "hotels['review_month'] = hotels['review_date'].dt.month"
   ]
  },
  {
   "cell_type": "code",
   "execution_count": 23,
   "id": "ae8a4387",
   "metadata": {
    "execution": {
     "iopub.execute_input": "2023-04-27T16:10:37.548790Z",
     "iopub.status.busy": "2023-04-27T16:10:37.548302Z",
     "iopub.status.idle": "2023-04-27T16:10:37.671182Z",
     "shell.execute_reply": "2023-04-27T16:10:37.669875Z"
    },
    "papermill": {
     "duration": 0.142104,
     "end_time": "2023-04-27T16:10:37.674135",
     "exception": false,
     "start_time": "2023-04-27T16:10:37.532031",
     "status": "completed"
    },
    "tags": []
   },
   "outputs": [],
   "source": [
    "hotels.drop(columns=['review_date', 'negative_review', 'positive_review'], inplace=True)"
   ]
  },
  {
   "cell_type": "markdown",
   "id": "2a2def0f",
   "metadata": {
    "papermill": {
     "duration": 0.013549,
     "end_time": "2023-04-27T16:10:37.701637",
     "exception": false,
     "start_time": "2023-04-27T16:10:37.688088",
     "status": "completed"
    },
    "tags": []
   },
   "source": [
    "Применим бинарное кодирование к признаку название отеля, всего значений 1492"
   ]
  },
  {
   "cell_type": "code",
   "execution_count": 24,
   "id": "820b7718",
   "metadata": {
    "execution": {
     "iopub.execute_input": "2023-04-27T16:10:37.732221Z",
     "iopub.status.busy": "2023-04-27T16:10:37.731826Z",
     "iopub.status.idle": "2023-04-27T16:10:39.036024Z",
     "shell.execute_reply": "2023-04-27T16:10:39.034224Z"
    },
    "papermill": {
     "duration": 1.323561,
     "end_time": "2023-04-27T16:10:39.039315",
     "exception": false,
     "start_time": "2023-04-27T16:10:37.715754",
     "status": "completed"
    },
    "tags": []
   },
   "outputs": [],
   "source": [
    "bin_encoder = ce.BinaryEncoder()\n",
    "\n",
    "data_code = bin_encoder.fit_transform(hotels['hotel_name'])\n",
    "hotels = pd.concat([hotels, data_code], axis=1)\n",
    "\n",
    "hotels.drop(columns='hotel_name', inplace=True)"
   ]
  },
  {
   "cell_type": "markdown",
   "id": "b7cffaa3",
   "metadata": {
    "papermill": {
     "duration": 0.014079,
     "end_time": "2023-04-27T16:10:39.068021",
     "exception": false,
     "start_time": "2023-04-27T16:10:39.053942",
     "status": "completed"
    },
    "tags": []
   },
   "source": [
    "Преобразем признак days_since_review в числовой"
   ]
  },
  {
   "cell_type": "code",
   "execution_count": 25,
   "id": "fcb02d00",
   "metadata": {
    "execution": {
     "iopub.execute_input": "2023-04-27T16:10:39.099223Z",
     "iopub.status.busy": "2023-04-27T16:10:39.098755Z",
     "iopub.status.idle": "2023-04-27T16:10:39.552120Z",
     "shell.execute_reply": "2023-04-27T16:10:39.550452Z"
    },
    "papermill": {
     "duration": 0.473066,
     "end_time": "2023-04-27T16:10:39.555414",
     "exception": false,
     "start_time": "2023-04-27T16:10:39.082348",
     "status": "completed"
    },
    "tags": []
   },
   "outputs": [],
   "source": [
    "def check_days(text):\n",
    "    text_lst = text.split()\n",
    "    return int(text_lst[0])\n",
    "\n",
    "hotels['days_since_review'] = hotels['days_since_review'].apply(check_days)"
   ]
  },
  {
   "cell_type": "code",
   "execution_count": 26,
   "id": "182dae90",
   "metadata": {
    "execution": {
     "iopub.execute_input": "2023-04-27T16:10:39.587667Z",
     "iopub.status.busy": "2023-04-27T16:10:39.587177Z",
     "iopub.status.idle": "2023-04-27T16:10:39.751039Z",
     "shell.execute_reply": "2023-04-27T16:10:39.749747Z"
    },
    "papermill": {
     "duration": 0.183436,
     "end_time": "2023-04-27T16:10:39.753939",
     "exception": false,
     "start_time": "2023-04-27T16:10:39.570503",
     "status": "completed"
    },
    "tags": []
   },
   "outputs": [
    {
     "data": {
      "text/html": [
       "<div>\n",
       "<style scoped>\n",
       "    .dataframe tbody tr th:only-of-type {\n",
       "        vertical-align: middle;\n",
       "    }\n",
       "\n",
       "    .dataframe tbody tr th {\n",
       "        vertical-align: top;\n",
       "    }\n",
       "\n",
       "    .dataframe thead th {\n",
       "        text-align: right;\n",
       "    }\n",
       "</style>\n",
       "<table border=\"1\" class=\"dataframe\">\n",
       "  <thead>\n",
       "    <tr style=\"text-align: right;\">\n",
       "      <th></th>\n",
       "      <th>review_year</th>\n",
       "      <th>review_month</th>\n",
       "      <th>days_since_review</th>\n",
       "    </tr>\n",
       "  </thead>\n",
       "  <tbody>\n",
       "    <tr>\n",
       "      <th>review_year</th>\n",
       "      <td>1.000000</td>\n",
       "      <td>-0.581331</td>\n",
       "      <td>-0.917266</td>\n",
       "    </tr>\n",
       "    <tr>\n",
       "      <th>review_month</th>\n",
       "      <td>-0.581331</td>\n",
       "      <td>1.000000</td>\n",
       "      <td>0.211014</td>\n",
       "    </tr>\n",
       "    <tr>\n",
       "      <th>days_since_review</th>\n",
       "      <td>-0.917266</td>\n",
       "      <td>0.211014</td>\n",
       "      <td>1.000000</td>\n",
       "    </tr>\n",
       "  </tbody>\n",
       "</table>\n",
       "</div>"
      ],
      "text/plain": [
       "                   review_year  review_month  days_since_review\n",
       "review_year           1.000000     -0.581331          -0.917266\n",
       "review_month         -0.581331      1.000000           0.211014\n",
       "days_since_review    -0.917266      0.211014           1.000000"
      ]
     },
     "metadata": {},
     "output_type": "display_data"
    }
   ],
   "source": [
    "#display(data[['review_year', 'review_month', 'winter', 'spring', 'summer', 'autumn', 'days_since_review']].corr())\n",
    "display(hotels[['review_year', 'review_month', 'days_since_review']].corr())"
   ]
  },
  {
   "cell_type": "markdown",
   "id": "42defc89",
   "metadata": {
    "papermill": {
     "duration": 0.013925,
     "end_time": "2023-04-27T16:10:39.783360",
     "exception": false,
     "start_time": "2023-04-27T16:10:39.769435",
     "status": "completed"
    },
    "tags": []
   },
   "source": [
    "Убираем признаки которые еще не успели обработать, \n",
    "Модель на признаках с dtypes \"object\" обучаться не будет, просто выберим их и удалим"
   ]
  },
  {
   "cell_type": "code",
   "execution_count": 27,
   "id": "47a8e2d0",
   "metadata": {
    "execution": {
     "iopub.execute_input": "2023-04-27T16:10:39.813947Z",
     "iopub.status.busy": "2023-04-27T16:10:39.813416Z",
     "iopub.status.idle": "2023-04-27T16:10:39.894585Z",
     "shell.execute_reply": "2023-04-27T16:10:39.893052Z"
    },
    "papermill": {
     "duration": 0.099862,
     "end_time": "2023-04-27T16:10:39.897356",
     "exception": false,
     "start_time": "2023-04-27T16:10:39.797494",
     "status": "completed"
    },
    "tags": []
   },
   "outputs": [],
   "source": [
    "object_columns = [s for s in hotels.columns if hotels[s].dtypes == 'object']\n",
    "hotels.drop(object_columns, axis = 1, inplace=True)"
   ]
  },
  {
   "cell_type": "code",
   "execution_count": 28,
   "id": "df502c18",
   "metadata": {
    "execution": {
     "iopub.execute_input": "2023-04-27T16:10:39.927929Z",
     "iopub.status.busy": "2023-04-27T16:10:39.927395Z",
     "iopub.status.idle": "2023-04-27T16:10:39.969411Z",
     "shell.execute_reply": "2023-04-27T16:10:39.967076Z"
    },
    "papermill": {
     "duration": 0.060756,
     "end_time": "2023-04-27T16:10:39.972160",
     "exception": false,
     "start_time": "2023-04-27T16:10:39.911404",
     "status": "completed"
    },
    "tags": []
   },
   "outputs": [
    {
     "name": "stdout",
     "output_type": "stream",
     "text": [
      "<class 'pandas.core.frame.DataFrame'>\n",
      "RangeIndex: 515738 entries, 0 to 515737\n",
      "Data columns (total 26 columns):\n",
      " #   Column                                      Non-Null Count   Dtype  \n",
      "---  ------                                      --------------   -----  \n",
      " 0   additional_number_of_scoring                515738 non-null  int64  \n",
      " 1   average_score                               515738 non-null  float64\n",
      " 2   review_total_negative_word_counts           515738 non-null  int64  \n",
      " 3   total_number_of_reviews                     515738 non-null  int64  \n",
      " 4   review_total_positive_word_counts           515738 non-null  int64  \n",
      " 5   total_number_of_reviews_reviewer_has_given  515738 non-null  int64  \n",
      " 6   days_since_review                           515738 non-null  int64  \n",
      " 7   lat                                         515738 non-null  float64\n",
      " 8   lng                                         515738 non-null  float64\n",
      " 9   sample                                      515738 non-null  int64  \n",
      " 10  reviewer_score                              515738 non-null  float64\n",
      " 11  negative                                    515738 non-null  int64  \n",
      " 12  positive                                    515738 non-null  int64  \n",
      " 13  review_year                                 515738 non-null  int64  \n",
      " 14  review_month                                515738 non-null  int64  \n",
      " 15  hotel_name_0                                515738 non-null  int64  \n",
      " 16  hotel_name_1                                515738 non-null  int64  \n",
      " 17  hotel_name_2                                515738 non-null  int64  \n",
      " 18  hotel_name_3                                515738 non-null  int64  \n",
      " 19  hotel_name_4                                515738 non-null  int64  \n",
      " 20  hotel_name_5                                515738 non-null  int64  \n",
      " 21  hotel_name_6                                515738 non-null  int64  \n",
      " 22  hotel_name_7                                515738 non-null  int64  \n",
      " 23  hotel_name_8                                515738 non-null  int64  \n",
      " 24  hotel_name_9                                515738 non-null  int64  \n",
      " 25  hotel_name_10                               515738 non-null  int64  \n",
      "dtypes: float64(4), int64(22)\n",
      "memory usage: 102.3 MB\n"
     ]
    }
   ],
   "source": [
    "hotels.info()"
   ]
  },
  {
   "cell_type": "code",
   "execution_count": 29,
   "id": "3af2426a",
   "metadata": {
    "execution": {
     "iopub.execute_input": "2023-04-27T16:10:40.002971Z",
     "iopub.status.busy": "2023-04-27T16:10:40.002268Z",
     "iopub.status.idle": "2023-04-27T16:10:40.177409Z",
     "shell.execute_reply": "2023-04-27T16:10:40.176025Z"
    },
    "papermill": {
     "duration": 0.194562,
     "end_time": "2023-04-27T16:10:40.180764",
     "exception": false,
     "start_time": "2023-04-27T16:10:39.986202",
     "status": "completed"
    },
    "tags": []
   },
   "outputs": [],
   "source": [
    "# Теперь выделим тестовую часть\n",
    "train_data = hotels.query('sample == 1').drop(['sample'], axis=1)\n",
    "test_data = hotels.query('sample == 0').drop(['sample'], axis=1)\n",
    "\n",
    "y = train_data.reviewer_score.values            # наш таргет\n",
    "X = train_data.drop(['reviewer_score'], axis=1)"
   ]
  },
  {
   "cell_type": "code",
   "execution_count": 30,
   "id": "8559512a",
   "metadata": {
    "execution": {
     "iopub.execute_input": "2023-04-27T16:10:40.212016Z",
     "iopub.status.busy": "2023-04-27T16:10:40.211515Z",
     "iopub.status.idle": "2023-04-27T16:10:40.368899Z",
     "shell.execute_reply": "2023-04-27T16:10:40.367434Z"
    },
    "papermill": {
     "duration": 0.176875,
     "end_time": "2023-04-27T16:10:40.372054",
     "exception": false,
     "start_time": "2023-04-27T16:10:40.195179",
     "status": "completed"
    },
    "tags": []
   },
   "outputs": [],
   "source": [
    "# Воспользуемся специальной функцие train_test_split для разбивки тестовых данных\n",
    "# выделим 20% данных на валидацию (параметр test_size)\n",
    "X_train, X_test, y_train, y_test = train_test_split(X, y, test_size=0.2, random_state=RANDOM_SEED)"
   ]
  },
  {
   "cell_type": "code",
   "execution_count": 31,
   "id": "4e7ae730",
   "metadata": {
    "execution": {
     "iopub.execute_input": "2023-04-27T16:10:40.403717Z",
     "iopub.status.busy": "2023-04-27T16:10:40.403224Z",
     "iopub.status.idle": "2023-04-27T16:10:40.411972Z",
     "shell.execute_reply": "2023-04-27T16:10:40.410437Z"
    },
    "papermill": {
     "duration": 0.028489,
     "end_time": "2023-04-27T16:10:40.415234",
     "exception": false,
     "start_time": "2023-04-27T16:10:40.386745",
     "status": "completed"
    },
    "tags": []
   },
   "outputs": [
    {
     "data": {
      "text/plain": [
       "((128935, 25), (386803, 25), (386803, 24), (309442, 24), (77361, 24))"
      ]
     },
     "execution_count": 31,
     "metadata": {},
     "output_type": "execute_result"
    }
   ],
   "source": [
    "# проверяем\n",
    "test_data.shape, train_data.shape, X.shape, X_train.shape, X_test.shape"
   ]
  },
  {
   "cell_type": "code",
   "execution_count": 32,
   "id": "33e5470a",
   "metadata": {
    "execution": {
     "iopub.execute_input": "2023-04-27T16:10:40.447179Z",
     "iopub.status.busy": "2023-04-27T16:10:40.445781Z",
     "iopub.status.idle": "2023-04-27T16:10:40.828202Z",
     "shell.execute_reply": "2023-04-27T16:10:40.826914Z"
    },
    "papermill": {
     "duration": 0.401922,
     "end_time": "2023-04-27T16:10:40.831744",
     "exception": false,
     "start_time": "2023-04-27T16:10:40.429822",
     "status": "completed"
    },
    "tags": []
   },
   "outputs": [],
   "source": [
    "# Импортируем необходимые библиотеки:\n",
    "from sklearn.ensemble import RandomForestRegressor # инструмент для создания и обучения модели\n",
    "from sklearn import metrics # инструменты для оценки точности модели"
   ]
  },
  {
   "cell_type": "code",
   "execution_count": 33,
   "id": "b17f4dfd",
   "metadata": {
    "execution": {
     "iopub.execute_input": "2023-04-27T16:10:40.863813Z",
     "iopub.status.busy": "2023-04-27T16:10:40.862657Z",
     "iopub.status.idle": "2023-04-27T16:10:40.867791Z",
     "shell.execute_reply": "2023-04-27T16:10:40.866977Z"
    },
    "papermill": {
     "duration": 0.023721,
     "end_time": "2023-04-27T16:10:40.870111",
     "exception": false,
     "start_time": "2023-04-27T16:10:40.846390",
     "status": "completed"
    },
    "tags": []
   },
   "outputs": [],
   "source": [
    "# Создаём модель (НАСТРОЙКИ НЕ ТРОГАЕМ)\n",
    "model = RandomForestRegressor(n_estimators=100, verbose=1, n_jobs=-1, random_state=RANDOM_SEED)"
   ]
  },
  {
   "cell_type": "code",
   "execution_count": 34,
   "id": "39b5cf1e",
   "metadata": {
    "execution": {
     "iopub.execute_input": "2023-04-27T16:10:40.901925Z",
     "iopub.status.busy": "2023-04-27T16:10:40.901084Z",
     "iopub.status.idle": "2023-04-27T16:12:41.526677Z",
     "shell.execute_reply": "2023-04-27T16:12:41.523791Z"
    },
    "papermill": {
     "duration": 120.645775,
     "end_time": "2023-04-27T16:12:41.530343",
     "exception": false,
     "start_time": "2023-04-27T16:10:40.884568",
     "status": "completed"
    },
    "tags": []
   },
   "outputs": [
    {
     "name": "stderr",
     "output_type": "stream",
     "text": [
      "[Parallel(n_jobs=-1)]: Using backend ThreadingBackend with 4 concurrent workers.\n",
      "[Parallel(n_jobs=-1)]: Done  42 tasks      | elapsed:   52.0s\n",
      "[Parallel(n_jobs=-1)]: Done 100 out of 100 | elapsed:  2.0min finished\n",
      "[Parallel(n_jobs=4)]: Using backend ThreadingBackend with 4 concurrent workers.\n",
      "[Parallel(n_jobs=4)]: Done  42 tasks      | elapsed:    0.8s\n",
      "[Parallel(n_jobs=4)]: Done 100 out of 100 | elapsed:    2.0s finished\n"
     ]
    }
   ],
   "source": [
    "# Обучаем модель на тестовом наборе данных\n",
    "model.fit(X_train, y_train)\n",
    "\n",
    "# Используем обученную модель для предсказания рейтинга ресторанов в тестовой выборке.\n",
    "# Предсказанные значения записываем в переменную y_pred\n",
    "y_pred = model.predict(X_test)"
   ]
  },
  {
   "cell_type": "code",
   "execution_count": 35,
   "id": "d524d0a1",
   "metadata": {
    "execution": {
     "iopub.execute_input": "2023-04-27T16:12:41.579296Z",
     "iopub.status.busy": "2023-04-27T16:12:41.577846Z",
     "iopub.status.idle": "2023-04-27T16:12:41.587586Z",
     "shell.execute_reply": "2023-04-27T16:12:41.586414Z"
    },
    "papermill": {
     "duration": 0.036766,
     "end_time": "2023-04-27T16:12:41.590043",
     "exception": false,
     "start_time": "2023-04-27T16:12:41.553277",
     "status": "completed"
    },
    "tags": []
   },
   "outputs": [
    {
     "name": "stdout",
     "output_type": "stream",
     "text": [
      "MAPE: 0.9405821810516062\n"
     ]
    }
   ],
   "source": [
    "# Сравниваем предсказанные значения (y_pred) с реальными (y_test), и смотрим насколько они в среднем отличаются\n",
    "# Метрика называется Mean Absolute Error (MAE) и показывает среднее отклонение предсказанных значений от фактических.\n",
    "print('MAPE:', metrics.mean_absolute_error(y_test, y_pred))"
   ]
  },
  {
   "cell_type": "code",
   "execution_count": 36,
   "id": "d569876e",
   "metadata": {
    "execution": {
     "iopub.execute_input": "2023-04-27T16:12:41.623439Z",
     "iopub.status.busy": "2023-04-27T16:12:41.622433Z",
     "iopub.status.idle": "2023-04-27T16:12:42.283573Z",
     "shell.execute_reply": "2023-04-27T16:12:42.282653Z"
    },
    "papermill": {
     "duration": 0.680917,
     "end_time": "2023-04-27T16:12:42.286351",
     "exception": false,
     "start_time": "2023-04-27T16:12:41.605434",
     "status": "completed"
    },
    "tags": []
   },
   "outputs": [
    {
     "data": {
      "text/plain": [
       "<AxesSubplot:>"
      ]
     },
     "execution_count": 36,
     "metadata": {},
     "output_type": "execute_result"
    },
    {
     "data": {
      "image/png": "[encoded data removed]",
      "text/plain": [
       "<Figure size 1000x1000 with 1 Axes>"
      ]
     },
     "metadata": {},
     "output_type": "display_data"
    }
   ],
   "source": [
    "# в RandomForestRegressor есть возможность вывести самые важные признаки для модели\n",
    "plt.rcParams['figure.figsize'] = (10,10)\n",
    "feat_importances = pd.Series(model.feature_importances_, index=X.columns)\n",
    "feat_importances.nlargest(15).plot(kind='barh')"
   ]
  },
  {
   "cell_type": "code",
   "execution_count": 37,
   "id": "3e3e09de",
   "metadata": {
    "execution": {
     "iopub.execute_input": "2023-04-27T16:12:42.320022Z",
     "iopub.status.busy": "2023-04-27T16:12:42.319568Z",
     "iopub.status.idle": "2023-04-27T16:12:42.349417Z",
     "shell.execute_reply": "2023-04-27T16:12:42.348074Z"
    },
    "papermill": {
     "duration": 0.049864,
     "end_time": "2023-04-27T16:12:42.352133",
     "exception": false,
     "start_time": "2023-04-27T16:12:42.302269",
     "status": "completed"
    },
    "tags": []
   },
   "outputs": [
    {
     "data": {
      "text/html": [
       "<div>\n",
       "<style scoped>\n",
       "    .dataframe tbody tr th:only-of-type {\n",
       "        vertical-align: middle;\n",
       "    }\n",
       "\n",
       "    .dataframe tbody tr th {\n",
       "        vertical-align: top;\n",
       "    }\n",
       "\n",
       "    .dataframe thead th {\n",
       "        text-align: right;\n",
       "    }\n",
       "</style>\n",
       "<table border=\"1\" class=\"dataframe\">\n",
       "  <thead>\n",
       "    <tr style=\"text-align: right;\">\n",
       "      <th></th>\n",
       "      <th>additional_number_of_scoring</th>\n",
       "      <th>average_score</th>\n",
       "      <th>review_total_negative_word_counts</th>\n",
       "      <th>total_number_of_reviews</th>\n",
       "      <th>review_total_positive_word_counts</th>\n",
       "      <th>total_number_of_reviews_reviewer_has_given</th>\n",
       "      <th>days_since_review</th>\n",
       "      <th>lat</th>\n",
       "      <th>lng</th>\n",
       "      <th>reviewer_score</th>\n",
       "      <th>...</th>\n",
       "      <th>hotel_name_1</th>\n",
       "      <th>hotel_name_2</th>\n",
       "      <th>hotel_name_3</th>\n",
       "      <th>hotel_name_4</th>\n",
       "      <th>hotel_name_5</th>\n",
       "      <th>hotel_name_6</th>\n",
       "      <th>hotel_name_7</th>\n",
       "      <th>hotel_name_8</th>\n",
       "      <th>hotel_name_9</th>\n",
       "      <th>hotel_name_10</th>\n",
       "    </tr>\n",
       "  </thead>\n",
       "  <tbody>\n",
       "    <tr>\n",
       "      <th>4778</th>\n",
       "      <td>354</td>\n",
       "      <td>8.3</td>\n",
       "      <td>14</td>\n",
       "      <td>1871</td>\n",
       "      <td>8</td>\n",
       "      <td>4</td>\n",
       "      <td>422</td>\n",
       "      <td>51.529860</td>\n",
       "      <td>-0.144462</td>\n",
       "      <td>0.0</td>\n",
       "      <td>...</td>\n",
       "      <td>0</td>\n",
       "      <td>0</td>\n",
       "      <td>1</td>\n",
       "      <td>0</td>\n",
       "      <td>1</td>\n",
       "      <td>1</td>\n",
       "      <td>0</td>\n",
       "      <td>1</td>\n",
       "      <td>0</td>\n",
       "      <td>0</td>\n",
       "    </tr>\n",
       "    <tr>\n",
       "      <th>115264</th>\n",
       "      <td>325</td>\n",
       "      <td>8.6</td>\n",
       "      <td>8</td>\n",
       "      <td>3221</td>\n",
       "      <td>2</td>\n",
       "      <td>6</td>\n",
       "      <td>310</td>\n",
       "      <td>48.206210</td>\n",
       "      <td>16.371039</td>\n",
       "      <td>0.0</td>\n",
       "      <td>...</td>\n",
       "      <td>0</td>\n",
       "      <td>1</td>\n",
       "      <td>0</td>\n",
       "      <td>1</td>\n",
       "      <td>0</td>\n",
       "      <td>1</td>\n",
       "      <td>0</td>\n",
       "      <td>1</td>\n",
       "      <td>1</td>\n",
       "      <td>0</td>\n",
       "    </tr>\n",
       "    <tr>\n",
       "      <th>22017</th>\n",
       "      <td>757</td>\n",
       "      <td>8.7</td>\n",
       "      <td>31</td>\n",
       "      <td>5236</td>\n",
       "      <td>9</td>\n",
       "      <td>2</td>\n",
       "      <td>691</td>\n",
       "      <td>52.357655</td>\n",
       "      <td>4.844576</td>\n",
       "      <td>0.0</td>\n",
       "      <td>...</td>\n",
       "      <td>0</td>\n",
       "      <td>1</td>\n",
       "      <td>1</td>\n",
       "      <td>1</td>\n",
       "      <td>1</td>\n",
       "      <td>0</td>\n",
       "      <td>1</td>\n",
       "      <td>1</td>\n",
       "      <td>1</td>\n",
       "      <td>0</td>\n",
       "    </tr>\n",
       "    <tr>\n",
       "      <th>112749</th>\n",
       "      <td>975</td>\n",
       "      <td>8.7</td>\n",
       "      <td>3</td>\n",
       "      <td>7656</td>\n",
       "      <td>20</td>\n",
       "      <td>1</td>\n",
       "      <td>660</td>\n",
       "      <td>52.354665</td>\n",
       "      <td>4.913164</td>\n",
       "      <td>0.0</td>\n",
       "      <td>...</td>\n",
       "      <td>0</td>\n",
       "      <td>1</td>\n",
       "      <td>1</td>\n",
       "      <td>1</td>\n",
       "      <td>1</td>\n",
       "      <td>0</td>\n",
       "      <td>0</td>\n",
       "      <td>1</td>\n",
       "      <td>0</td>\n",
       "      <td>0</td>\n",
       "    </tr>\n",
       "    <tr>\n",
       "      <th>20076</th>\n",
       "      <td>283</td>\n",
       "      <td>8.7</td>\n",
       "      <td>0</td>\n",
       "      <td>2678</td>\n",
       "      <td>4</td>\n",
       "      <td>1</td>\n",
       "      <td>420</td>\n",
       "      <td>45.484237</td>\n",
       "      <td>9.198858</td>\n",
       "      <td>0.0</td>\n",
       "      <td>...</td>\n",
       "      <td>0</td>\n",
       "      <td>1</td>\n",
       "      <td>1</td>\n",
       "      <td>1</td>\n",
       "      <td>1</td>\n",
       "      <td>0</td>\n",
       "      <td>0</td>\n",
       "      <td>0</td>\n",
       "      <td>1</td>\n",
       "      <td>1</td>\n",
       "    </tr>\n",
       "    <tr>\n",
       "      <th>953</th>\n",
       "      <td>211</td>\n",
       "      <td>9.3</td>\n",
       "      <td>19</td>\n",
       "      <td>1128</td>\n",
       "      <td>16</td>\n",
       "      <td>7</td>\n",
       "      <td>589</td>\n",
       "      <td>51.510092</td>\n",
       "      <td>-0.135943</td>\n",
       "      <td>0.0</td>\n",
       "      <td>...</td>\n",
       "      <td>1</td>\n",
       "      <td>0</td>\n",
       "      <td>0</td>\n",
       "      <td>0</td>\n",
       "      <td>1</td>\n",
       "      <td>0</td>\n",
       "      <td>1</td>\n",
       "      <td>1</td>\n",
       "      <td>0</td>\n",
       "      <td>1</td>\n",
       "    </tr>\n",
       "    <tr>\n",
       "      <th>62104</th>\n",
       "      <td>1427</td>\n",
       "      <td>8.8</td>\n",
       "      <td>9</td>\n",
       "      <td>4305</td>\n",
       "      <td>29</td>\n",
       "      <td>9</td>\n",
       "      <td>583</td>\n",
       "      <td>51.557696</td>\n",
       "      <td>-0.283526</td>\n",
       "      <td>0.0</td>\n",
       "      <td>...</td>\n",
       "      <td>1</td>\n",
       "      <td>0</td>\n",
       "      <td>1</td>\n",
       "      <td>0</td>\n",
       "      <td>1</td>\n",
       "      <td>0</td>\n",
       "      <td>0</td>\n",
       "      <td>1</td>\n",
       "      <td>1</td>\n",
       "      <td>0</td>\n",
       "    </tr>\n",
       "    <tr>\n",
       "      <th>73032</th>\n",
       "      <td>326</td>\n",
       "      <td>8.6</td>\n",
       "      <td>17</td>\n",
       "      <td>1032</td>\n",
       "      <td>7</td>\n",
       "      <td>12</td>\n",
       "      <td>566</td>\n",
       "      <td>51.475656</td>\n",
       "      <td>-0.181389</td>\n",
       "      <td>0.0</td>\n",
       "      <td>...</td>\n",
       "      <td>1</td>\n",
       "      <td>0</td>\n",
       "      <td>0</td>\n",
       "      <td>1</td>\n",
       "      <td>1</td>\n",
       "      <td>0</td>\n",
       "      <td>0</td>\n",
       "      <td>1</td>\n",
       "      <td>1</td>\n",
       "      <td>0</td>\n",
       "    </tr>\n",
       "    <tr>\n",
       "      <th>106196</th>\n",
       "      <td>168</td>\n",
       "      <td>8.2</td>\n",
       "      <td>9</td>\n",
       "      <td>1106</td>\n",
       "      <td>5</td>\n",
       "      <td>8</td>\n",
       "      <td>15</td>\n",
       "      <td>48.874715</td>\n",
       "      <td>2.290639</td>\n",
       "      <td>0.0</td>\n",
       "      <td>...</td>\n",
       "      <td>1</td>\n",
       "      <td>1</td>\n",
       "      <td>0</td>\n",
       "      <td>0</td>\n",
       "      <td>1</td>\n",
       "      <td>1</td>\n",
       "      <td>0</td>\n",
       "      <td>0</td>\n",
       "      <td>0</td>\n",
       "      <td>1</td>\n",
       "    </tr>\n",
       "    <tr>\n",
       "      <th>47349</th>\n",
       "      <td>317</td>\n",
       "      <td>7.6</td>\n",
       "      <td>26</td>\n",
       "      <td>1458</td>\n",
       "      <td>6</td>\n",
       "      <td>7</td>\n",
       "      <td>570</td>\n",
       "      <td>51.516114</td>\n",
       "      <td>-0.174952</td>\n",
       "      <td>0.0</td>\n",
       "      <td>...</td>\n",
       "      <td>0</td>\n",
       "      <td>0</td>\n",
       "      <td>1</td>\n",
       "      <td>0</td>\n",
       "      <td>1</td>\n",
       "      <td>1</td>\n",
       "      <td>1</td>\n",
       "      <td>1</td>\n",
       "      <td>1</td>\n",
       "      <td>1</td>\n",
       "    </tr>\n",
       "  </tbody>\n",
       "</table>\n",
       "<p>10 rows × 25 columns</p>\n",
       "</div>"
      ],
      "text/plain": [
       "        additional_number_of_scoring  average_score  \\\n",
       "4778                             354            8.3   \n",
       "115264                           325            8.6   \n",
       "22017                            757            8.7   \n",
       "112749                           975            8.7   \n",
       "20076                            283            8.7   \n",
       "953                              211            9.3   \n",
       "62104                           1427            8.8   \n",
       "73032                            326            8.6   \n",
       "106196                           168            8.2   \n",
       "47349                            317            7.6   \n",
       "\n",
       "        review_total_negative_word_counts  total_number_of_reviews  \\\n",
       "4778                                   14                     1871   \n",
       "115264                                  8                     3221   \n",
       "22017                                  31                     5236   \n",
       "112749                                  3                     7656   \n",
       "20076                                   0                     2678   \n",
       "953                                    19                     1128   \n",
       "62104                                   9                     4305   \n",
       "73032                                  17                     1032   \n",
       "106196                                  9                     1106   \n",
       "47349                                  26                     1458   \n",
       "\n",
       "        review_total_positive_word_counts  \\\n",
       "4778                                    8   \n",
       "115264                                  2   \n",
       "22017                                   9   \n",
       "112749                                 20   \n",
       "20076                                   4   \n",
       "953                                    16   \n",
       "62104                                  29   \n",
       "73032                                   7   \n",
       "106196                                  5   \n",
       "47349                                   6   \n",
       "\n",
       "        total_number_of_reviews_reviewer_has_given  days_since_review  \\\n",
       "4778                                             4                422   \n",
       "115264                                           6                310   \n",
       "22017                                            2                691   \n",
       "112749                                           1                660   \n",
       "20076                                            1                420   \n",
       "953                                              7                589   \n",
       "62104                                            9                583   \n",
       "73032                                           12                566   \n",
       "106196                                           8                 15   \n",
       "47349                                            7                570   \n",
       "\n",
       "              lat        lng  reviewer_score  ...  hotel_name_1  hotel_name_2  \\\n",
       "4778    51.529860  -0.144462             0.0  ...             0             0   \n",
       "115264  48.206210  16.371039             0.0  ...             0             1   \n",
       "22017   52.357655   4.844576             0.0  ...             0             1   \n",
       "112749  52.354665   4.913164             0.0  ...             0             1   \n",
       "20076   45.484237   9.198858             0.0  ...             0             1   \n",
       "953     51.510092  -0.135943             0.0  ...             1             0   \n",
       "62104   51.557696  -0.283526             0.0  ...             1             0   \n",
       "73032   51.475656  -0.181389             0.0  ...             1             0   \n",
       "106196  48.874715   2.290639             0.0  ...             1             1   \n",
       "47349   51.516114  -0.174952             0.0  ...             0             0   \n",
       "\n",
       "        hotel_name_3  hotel_name_4  hotel_name_5  hotel_name_6  hotel_name_7  \\\n",
       "4778               1             0             1             1             0   \n",
       "115264             0             1             0             1             0   \n",
       "22017              1             1             1             0             1   \n",
       "112749             1             1             1             0             0   \n",
       "20076              1             1             1             0             0   \n",
       "953                0             0             1             0             1   \n",
       "62104              1             0             1             0             0   \n",
       "73032              0             1             1             0             0   \n",
       "106196             0             0             1             1             0   \n",
       "47349              1             0             1             1             1   \n",
       "\n",
       "        hotel_name_8  hotel_name_9  hotel_name_10  \n",
       "4778               1             0              0  \n",
       "115264             1             1              0  \n",
       "22017              1             1              0  \n",
       "112749             1             0              0  \n",
       "20076              0             1              1  \n",
       "953                1             0              1  \n",
       "62104              1             1              0  \n",
       "73032              1             1              0  \n",
       "106196             0             0              1  \n",
       "47349              1             1              1  \n",
       "\n",
       "[10 rows x 25 columns]"
      ]
     },
     "execution_count": 37,
     "metadata": {},
     "output_type": "execute_result"
    }
   ],
   "source": [
    "test_data.sample(10)"
   ]
  },
  {
   "cell_type": "code",
   "execution_count": 38,
   "id": "41019e80",
   "metadata": {
    "execution": {
     "iopub.execute_input": "2023-04-27T16:12:42.387587Z",
     "iopub.status.busy": "2023-04-27T16:12:42.387186Z",
     "iopub.status.idle": "2023-04-27T16:12:42.399080Z",
     "shell.execute_reply": "2023-04-27T16:12:42.397809Z"
    },
    "papermill": {
     "duration": 0.032556,
     "end_time": "2023-04-27T16:12:42.401671",
     "exception": false,
     "start_time": "2023-04-27T16:12:42.369115",
     "status": "completed"
    },
    "tags": []
   },
   "outputs": [],
   "source": [
    "test_data = test_data.drop(['reviewer_score'], axis=1)"
   ]
  },
  {
   "cell_type": "code",
   "execution_count": 39,
   "id": "19c3d121",
   "metadata": {
    "execution": {
     "iopub.execute_input": "2023-04-27T16:12:42.436310Z",
     "iopub.status.busy": "2023-04-27T16:12:42.435875Z",
     "iopub.status.idle": "2023-04-27T16:12:42.448402Z",
     "shell.execute_reply": "2023-04-27T16:12:42.447243Z"
    },
    "papermill": {
     "duration": 0.032875,
     "end_time": "2023-04-27T16:12:42.450872",
     "exception": false,
     "start_time": "2023-04-27T16:12:42.417997",
     "status": "completed"
    },
    "tags": []
   },
   "outputs": [
    {
     "data": {
      "text/html": [
       "<div>\n",
       "<style scoped>\n",
       "    .dataframe tbody tr th:only-of-type {\n",
       "        vertical-align: middle;\n",
       "    }\n",
       "\n",
       "    .dataframe tbody tr th {\n",
       "        vertical-align: top;\n",
       "    }\n",
       "\n",
       "    .dataframe thead th {\n",
       "        text-align: right;\n",
       "    }\n",
       "</style>\n",
       "<table border=\"1\" class=\"dataframe\">\n",
       "  <thead>\n",
       "    <tr style=\"text-align: right;\">\n",
       "      <th></th>\n",
       "      <th>reviewer_score</th>\n",
       "      <th>id</th>\n",
       "    </tr>\n",
       "  </thead>\n",
       "  <tbody>\n",
       "    <tr>\n",
       "      <th>0</th>\n",
       "      <td>1</td>\n",
       "      <td>488440</td>\n",
       "    </tr>\n",
       "    <tr>\n",
       "      <th>1</th>\n",
       "      <td>10</td>\n",
       "      <td>274649</td>\n",
       "    </tr>\n",
       "    <tr>\n",
       "      <th>2</th>\n",
       "      <td>3</td>\n",
       "      <td>374688</td>\n",
       "    </tr>\n",
       "    <tr>\n",
       "      <th>3</th>\n",
       "      <td>10</td>\n",
       "      <td>404352</td>\n",
       "    </tr>\n",
       "    <tr>\n",
       "      <th>4</th>\n",
       "      <td>9</td>\n",
       "      <td>451596</td>\n",
       "    </tr>\n",
       "    <tr>\n",
       "      <th>...</th>\n",
       "      <td>...</td>\n",
       "      <td>...</td>\n",
       "    </tr>\n",
       "    <tr>\n",
       "      <th>128930</th>\n",
       "      <td>7</td>\n",
       "      <td>495812</td>\n",
       "    </tr>\n",
       "    <tr>\n",
       "      <th>128931</th>\n",
       "      <td>1</td>\n",
       "      <td>315577</td>\n",
       "    </tr>\n",
       "    <tr>\n",
       "      <th>128932</th>\n",
       "      <td>3</td>\n",
       "      <td>511968</td>\n",
       "    </tr>\n",
       "    <tr>\n",
       "      <th>128933</th>\n",
       "      <td>6</td>\n",
       "      <td>303386</td>\n",
       "    </tr>\n",
       "    <tr>\n",
       "      <th>128934</th>\n",
       "      <td>5</td>\n",
       "      <td>103157</td>\n",
       "    </tr>\n",
       "  </tbody>\n",
       "</table>\n",
       "<p>128935 rows × 2 columns</p>\n",
       "</div>"
      ],
      "text/plain": [
       "        reviewer_score      id\n",
       "0                    1  488440\n",
       "1                   10  274649\n",
       "2                    3  374688\n",
       "3                   10  404352\n",
       "4                    9  451596\n",
       "...                ...     ...\n",
       "128930               7  495812\n",
       "128931               1  315577\n",
       "128932               3  511968\n",
       "128933               6  303386\n",
       "128934               5  103157\n",
       "\n",
       "[128935 rows x 2 columns]"
      ]
     },
     "execution_count": 39,
     "metadata": {},
     "output_type": "execute_result"
    }
   ],
   "source": [
    "sample_submission"
   ]
  },
  {
   "cell_type": "code",
   "execution_count": 40,
   "id": "2de299c6",
   "metadata": {
    "execution": {
     "iopub.execute_input": "2023-04-27T16:12:42.486156Z",
     "iopub.status.busy": "2023-04-27T16:12:42.485673Z",
     "iopub.status.idle": "2023-04-27T16:12:45.021896Z",
     "shell.execute_reply": "2023-04-27T16:12:45.019550Z"
    },
    "papermill": {
     "duration": 2.557262,
     "end_time": "2023-04-27T16:12:45.024723",
     "exception": false,
     "start_time": "2023-04-27T16:12:42.467461",
     "status": "completed"
    },
    "tags": []
   },
   "outputs": [
    {
     "name": "stderr",
     "output_type": "stream",
     "text": [
      "[Parallel(n_jobs=4)]: Using backend ThreadingBackend with 4 concurrent workers.\n",
      "[Parallel(n_jobs=4)]: Done  42 tasks      | elapsed:    1.1s\n",
      "[Parallel(n_jobs=4)]: Done 100 out of 100 | elapsed:    2.5s finished\n"
     ]
    }
   ],
   "source": [
    "predict_submission = model.predict(test_data)"
   ]
  },
  {
   "cell_type": "code",
   "execution_count": 41,
   "id": "8fc29fc0",
   "metadata": {
    "execution": {
     "iopub.execute_input": "2023-04-27T16:12:45.060237Z",
     "iopub.status.busy": "2023-04-27T16:12:45.059836Z",
     "iopub.status.idle": "2023-04-27T16:12:45.067431Z",
     "shell.execute_reply": "2023-04-27T16:12:45.066131Z"
    },
    "papermill": {
     "duration": 0.028372,
     "end_time": "2023-04-27T16:12:45.069880",
     "exception": false,
     "start_time": "2023-04-27T16:12:45.041508",
     "status": "completed"
    },
    "tags": []
   },
   "outputs": [
    {
     "data": {
      "text/plain": [
       "array([8.505, 7.373, 8.161, ..., 8.142, 9.688, 6.667])"
      ]
     },
     "execution_count": 41,
     "metadata": {},
     "output_type": "execute_result"
    }
   ],
   "source": [
    "predict_submission"
   ]
  },
  {
   "cell_type": "code",
   "execution_count": 42,
   "id": "ea8dd356",
   "metadata": {
    "execution": {
     "iopub.execute_input": "2023-04-27T16:12:45.106169Z",
     "iopub.status.busy": "2023-04-27T16:12:45.105384Z",
     "iopub.status.idle": "2023-04-27T16:12:45.112601Z",
     "shell.execute_reply": "2023-04-27T16:12:45.111349Z"
    },
    "papermill": {
     "duration": 0.028008,
     "end_time": "2023-04-27T16:12:45.114921",
     "exception": false,
     "start_time": "2023-04-27T16:12:45.086913",
     "status": "completed"
    },
    "tags": []
   },
   "outputs": [
    {
     "data": {
      "text/plain": [
       "['reviewer_score', 'id']"
      ]
     },
     "execution_count": 42,
     "metadata": {},
     "output_type": "execute_result"
    }
   ],
   "source": [
    "list(sample_submission)"
   ]
  },
  {
   "cell_type": "code",
   "execution_count": 43,
   "id": "ec5fa2b3",
   "metadata": {
    "execution": {
     "iopub.execute_input": "2023-04-27T16:12:45.151074Z",
     "iopub.status.busy": "2023-04-27T16:12:45.149906Z",
     "iopub.status.idle": "2023-04-27T16:12:45.430019Z",
     "shell.execute_reply": "2023-04-27T16:12:45.428748Z"
    },
    "papermill": {
     "duration": 0.300805,
     "end_time": "2023-04-27T16:12:45.432547",
     "exception": false,
     "start_time": "2023-04-27T16:12:45.131742",
     "status": "completed"
    },
    "tags": []
   },
   "outputs": [
    {
     "data": {
      "text/html": [
       "<div>\n",
       "<style scoped>\n",
       "    .dataframe tbody tr th:only-of-type {\n",
       "        vertical-align: middle;\n",
       "    }\n",
       "\n",
       "    .dataframe tbody tr th {\n",
       "        vertical-align: top;\n",
       "    }\n",
       "\n",
       "    .dataframe thead th {\n",
       "        text-align: right;\n",
       "    }\n",
       "</style>\n",
       "<table border=\"1\" class=\"dataframe\">\n",
       "  <thead>\n",
       "    <tr style=\"text-align: right;\">\n",
       "      <th></th>\n",
       "      <th>reviewer_score</th>\n",
       "      <th>id</th>\n",
       "    </tr>\n",
       "  </thead>\n",
       "  <tbody>\n",
       "    <tr>\n",
       "      <th>0</th>\n",
       "      <td>8.505</td>\n",
       "      <td>488440</td>\n",
       "    </tr>\n",
       "    <tr>\n",
       "      <th>1</th>\n",
       "      <td>7.373</td>\n",
       "      <td>274649</td>\n",
       "    </tr>\n",
       "    <tr>\n",
       "      <th>2</th>\n",
       "      <td>8.161</td>\n",
       "      <td>374688</td>\n",
       "    </tr>\n",
       "    <tr>\n",
       "      <th>3</th>\n",
       "      <td>9.526</td>\n",
       "      <td>404352</td>\n",
       "    </tr>\n",
       "    <tr>\n",
       "      <th>4</th>\n",
       "      <td>9.676</td>\n",
       "      <td>451596</td>\n",
       "    </tr>\n",
       "    <tr>\n",
       "      <th>5</th>\n",
       "      <td>8.746</td>\n",
       "      <td>302161</td>\n",
       "    </tr>\n",
       "    <tr>\n",
       "      <th>6</th>\n",
       "      <td>7.882</td>\n",
       "      <td>317079</td>\n",
       "    </tr>\n",
       "    <tr>\n",
       "      <th>7</th>\n",
       "      <td>7.291</td>\n",
       "      <td>13963</td>\n",
       "    </tr>\n",
       "    <tr>\n",
       "      <th>8</th>\n",
       "      <td>8.685</td>\n",
       "      <td>159785</td>\n",
       "    </tr>\n",
       "    <tr>\n",
       "      <th>9</th>\n",
       "      <td>8.111</td>\n",
       "      <td>195089</td>\n",
       "    </tr>\n",
       "  </tbody>\n",
       "</table>\n",
       "</div>"
      ],
      "text/plain": [
       "   reviewer_score      id\n",
       "0           8.505  488440\n",
       "1           7.373  274649\n",
       "2           8.161  374688\n",
       "3           9.526  404352\n",
       "4           9.676  451596\n",
       "5           8.746  302161\n",
       "6           7.882  317079\n",
       "7           7.291   13963\n",
       "8           8.685  159785\n",
       "9           8.111  195089"
      ]
     },
     "execution_count": 43,
     "metadata": {},
     "output_type": "execute_result"
    }
   ],
   "source": [
    "sample_submission['reviewer_score'] = predict_submission\n",
    "sample_submission.to_csv('submission.csv', index=False)\n",
    "sample_submission.head(10)"
   ]
  }
 ],
 "metadata": {
  "kernelspec": {
   "display_name": "Python 3",
   "language": "python",
   "name": "python3"
  },
  "language_info": {
   "codemirror_mode": {
    "name": "ipython",
    "version": 3
   },
   "file_extension": ".py",
   "mimetype": "text/x-python",
   "name": "python",
   "nbconvert_exporter": "python",
   "pygments_lexer": "ipython3",
   "version": "3.7.12"
  },
  "papermill": {
   "default_parameters": {},
   "duration": 166.859451,
   "end_time": "2023-04-27T16:12:46.676484",
   "environment_variables": {},
   "exception": null,
   "input_path": "__notebook__.ipynb",
   "output_path": "__notebook__.ipynb",
   "parameters": {},
   "start_time": "2023-04-27T16:09:59.817033",
   "version": "2.4.0"
  }
 },
 "nbformat": 4,
 "nbformat_minor": 5
}
