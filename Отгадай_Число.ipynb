{
 "cells": [
  {
   "cell_type": "code",
   "execution_count": 2,
   "metadata": {},
   "outputs": [
    {
     "name": "stdout",
     "output_type": "stream",
     "text": [
      "Загаданное число меньше:  68\n",
      "Загаданное число больше:  37\n",
      "Загаданное число больше:  48\n",
      "Загаданное число меньше:  65\n",
      "Загаданное число больше:  49\n",
      "Загаданное число больше:  54\n",
      "Загаданное число меньше:  64\n",
      "Загаданное число меньше:  59\n",
      "Загаданное число меньше:  56\n",
      "55\n",
      "В яблочко, с 10 попытки\n"
     ]
    }
   ],
   "source": [
    "import random\n",
    "number = int(input(\"Введите число от 1 до 100: \"))\n",
    "\n",
    "x = 1\n",
    "y = 100\n",
    "guess = random.randint (x, y)\n",
    "tries = 1\n",
    "\n",
    "if number == guess:\n",
    "    print('С первой попытки!')\n",
    "else:\n",
    "    while guess != number:\n",
    "        if number > guess:\n",
    "            print(\"Загаданное число больше: \", guess)\n",
    "            x = guess\n",
    "            guess = random.randint(x, y)\n",
    "            tries += 1\n",
    "        elif number < guess:\n",
    "            print(\"Загаданное число меньше: \", guess)\n",
    "            y = guess\n",
    "            guess = random.randint(x, y)\n",
    "            tries += 1\n",
    "    print (number)\n",
    "    print ('В яблочко, с', tries, 'попытки')"
   ]
  }
 ],
 "metadata": {
  "kernelspec": {
   "display_name": "Python 3",
   "language": "python",
   "name": "python3"
  },
  "language_info": {
   "codemirror_mode": {
    "name": "ipython",
    "version": 3
   },
   "file_extension": ".py",
   "mimetype": "text/x-python",
   "name": "python",
   "nbconvert_exporter": "python",
   "pygments_lexer": "ipython3",
   "version": "3.11.3"
  },
  "orig_nbformat": 4
 },
 "nbformat": 4,
 "nbformat_minor": 2
}
